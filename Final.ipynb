{
  "cells": [
    {
      "cell_type": "markdown",
      "metadata": {
        "id": "zPMSMew6JP7Q"
      },
      "source": [
        "# Проект «Прогнозирование размеров сварного шва при электронно-лучевой сварке тонкостенных конструкций аэрокосмического назначения»"
      ]
    },
    {
      "cell_type": "markdown",
      "metadata": {
        "id": "obA_IB18LOOt"
      },
      "source": [
        "## Описание проекта"
      ]
    },
    {
      "cell_type": "markdown",
      "metadata": {
        "id": "A90q13GJLSA4"
      },
      "source": [
        "В качестве исходных данных были взяты результаты экспериментальных исследований, проводимых в целях улучшения технологического процесса электронно-лучевой сварки изделия, сборка которого состоит из элементов, состоящих из разнородного материала. \n",
        "\n",
        "Установка электронно-лучевой сварки, на которой проводились исследования, предназначена для сварки электронным лучом в глубоком вакууме деталей сборочных единиц из нержавеющих сталей, титановых, алюминиевых и специальных сплавов. \n",
        "\n",
        "Существующая установка электронно-лучевой сварки обеспечивает повторяемость режимов в рамках возможностей реализованной системы управления. Работы по сварке выполнялись на образцах-имитаторах, соответствующих технологическому изделию. \n",
        "\n",
        "Для уменьшения вложения энергии при сварке:\n",
        "1.\tСнижалась величина сварочного тока (IW);\n",
        "2.\tУвеличивался ток фокусировки электронного пучка (IF);\n",
        "3.\tУвеличивалась скорость сварки (VW);\n",
        "4.\tМенялось расстояние от поверхности образцов до электронно-оптической системы (FP). \n",
        "\n",
        "По совокупности параметров технологических режимов обеспечивались минимально возможные размеры сварных швов: глубина шва (Depth) и ширина шва (Width).\n",
        "\n",
        "В процессе выполнения работ была произведена электронно-лучевая сварка 18-ти единиц образцов. Результаты металлографического контроля по размерам сварочного шва для каждого образца проводились в 4-х поперечных сечениях сварочного шва. Ускоряющее напряжение было постоянным в диапазоне 19,8 – 20 кВ. Набор полученных данных собраны в составе режимов сварки, размеров сварочных швов в поперечных сечениях всех образцов. "
      ]
    },
    {
      "cell_type": "markdown",
      "metadata": {
        "id": "MgbIp9KaK1bT"
      },
      "source": [
        "## Описание данных"
      ]
    },
    {
      "cell_type": "markdown",
      "metadata": {
        "id": "rHJn4T50LKm_"
      },
      "source": [
        "1.\tIW - величина сварочного тока.\n",
        "2.\tIF - ток фокусировки электронного пучка.\n",
        "3.\tVW - скорость сварки.\n",
        "4.\tFP -  расстояние от поверхности образцов до электронно-оптической системы.\n",
        "5. Depth - глубина шва. \n",
        "6. Width - ширина шва."
      ]
    },
    {
      "cell_type": "markdown",
      "metadata": {
        "id": "Z3Hl3FOtMLEz"
      },
      "source": [
        "## Цель проекта\n",
        "\n",
        "* Провести прогнозирование глубины (Depth) и ширины (Width) сварного шва в зависимости от параметров технологического процесса (IW, IF, VW, FP)."
      ]
    },
    {
      "cell_type": "markdown",
      "metadata": {
        "id": "Jh-Vk-4OMRUG"
      },
      "source": [
        "## Задачи проекта\n",
        "\n",
        "* Изучить данные\n",
        "* Провести предобработку данных\n",
        "* Примененить минимум 3-х алгоритма машинного обучения (включая обязательно использование искусственных нейронных сетей), позволяющих решить поставленную задачу анализа данных, выбрать лучшую модель и применить ее в приложении."
      ]
    },
    {
      "cell_type": "markdown",
      "metadata": {
        "id": "XtHwzFJNNYQS"
      },
      "source": [
        "## Изучение и предобработка данных"
      ]
    },
    {
      "cell_type": "code",
      "execution_count": 1,
      "metadata": {
        "ExecuteTime": {
          "end_time": "2022-11-09T06:49:01.591341Z",
          "start_time": "2022-11-09T06:49:01.581344Z"
        },
        "id": "_giefk1SN3dO"
      },
      "outputs": [],
      "source": [
        "# Импортируем необходимые библиотеки\n",
        "\n",
        "import pandas as pd\n",
        "import numpy as np\n",
        "\n",
        "import warnings\n",
        "warnings.filterwarnings(\"ignore\")\n",
        "\n",
        "#опция вывода, 3 знака после запятой\n",
        "np.set_printoptions(precision = 3, suppress=True)\n",
        "\n",
        "#глубокое обучение\n",
        "import tensorflow as tf\n",
        "from tensorflow import keras\n",
        "from tensorflow.keras import layers\n",
        "from tensorflow.keras.utils import to_categorical\n",
        "\n",
        "#визуализация\n",
        "import matplotlib.pyplot as plt\n",
        "%matplotlib inline\n",
        "\n"
      ]
    },
    {
      "cell_type": "code",
      "execution_count": 2,
      "metadata": {
        "ExecuteTime": {
          "end_time": "2022-11-09T06:49:02.300344Z",
          "start_time": "2022-11-09T06:49:01.594342Z"
        },
        "colab": {
          "base_uri": "https://localhost:8080/",
          "height": 206
        },
        "id": "S413U79aNVT2",
        "outputId": "f7386be4-8238-459a-f7e4-ab5414c99a02"
      },
      "outputs": [
        {
          "output_type": "execute_result",
          "data": {
            "text/plain": [
              "   IW   IF   VW  FP  Depth  Width\n",
              "0  47  139  4.5  80   1.60   2.54\n",
              "1  47  139  4.5  80   1.62   2.50\n",
              "2  47  139  4.5  80   1.68   2.60\n",
              "3  47  139  4.5  80   1.58   2.52\n",
              "4  45  140  4.5  80   1.76   2.48"
            ],
            "text/html": [
              "\n",
              "  <div id=\"df-8e66508a-cac4-4cbc-982f-66c64b800824\">\n",
              "    <div class=\"colab-df-container\">\n",
              "      <div>\n",
              "<style scoped>\n",
              "    .dataframe tbody tr th:only-of-type {\n",
              "        vertical-align: middle;\n",
              "    }\n",
              "\n",
              "    .dataframe tbody tr th {\n",
              "        vertical-align: top;\n",
              "    }\n",
              "\n",
              "    .dataframe thead th {\n",
              "        text-align: right;\n",
              "    }\n",
              "</style>\n",
              "<table border=\"1\" class=\"dataframe\">\n",
              "  <thead>\n",
              "    <tr style=\"text-align: right;\">\n",
              "      <th></th>\n",
              "      <th>IW</th>\n",
              "      <th>IF</th>\n",
              "      <th>VW</th>\n",
              "      <th>FP</th>\n",
              "      <th>Depth</th>\n",
              "      <th>Width</th>\n",
              "    </tr>\n",
              "  </thead>\n",
              "  <tbody>\n",
              "    <tr>\n",
              "      <th>0</th>\n",
              "      <td>47</td>\n",
              "      <td>139</td>\n",
              "      <td>4.5</td>\n",
              "      <td>80</td>\n",
              "      <td>1.60</td>\n",
              "      <td>2.54</td>\n",
              "    </tr>\n",
              "    <tr>\n",
              "      <th>1</th>\n",
              "      <td>47</td>\n",
              "      <td>139</td>\n",
              "      <td>4.5</td>\n",
              "      <td>80</td>\n",
              "      <td>1.62</td>\n",
              "      <td>2.50</td>\n",
              "    </tr>\n",
              "    <tr>\n",
              "      <th>2</th>\n",
              "      <td>47</td>\n",
              "      <td>139</td>\n",
              "      <td>4.5</td>\n",
              "      <td>80</td>\n",
              "      <td>1.68</td>\n",
              "      <td>2.60</td>\n",
              "    </tr>\n",
              "    <tr>\n",
              "      <th>3</th>\n",
              "      <td>47</td>\n",
              "      <td>139</td>\n",
              "      <td>4.5</td>\n",
              "      <td>80</td>\n",
              "      <td>1.58</td>\n",
              "      <td>2.52</td>\n",
              "    </tr>\n",
              "    <tr>\n",
              "      <th>4</th>\n",
              "      <td>45</td>\n",
              "      <td>140</td>\n",
              "      <td>4.5</td>\n",
              "      <td>80</td>\n",
              "      <td>1.76</td>\n",
              "      <td>2.48</td>\n",
              "    </tr>\n",
              "  </tbody>\n",
              "</table>\n",
              "</div>\n",
              "      <button class=\"colab-df-convert\" onclick=\"convertToInteractive('df-8e66508a-cac4-4cbc-982f-66c64b800824')\"\n",
              "              title=\"Convert this dataframe to an interactive table.\"\n",
              "              style=\"display:none;\">\n",
              "        \n",
              "  <svg xmlns=\"http://www.w3.org/2000/svg\" height=\"24px\"viewBox=\"0 0 24 24\"\n",
              "       width=\"24px\">\n",
              "    <path d=\"M0 0h24v24H0V0z\" fill=\"none\"/>\n",
              "    <path d=\"M18.56 5.44l.94 2.06.94-2.06 2.06-.94-2.06-.94-.94-2.06-.94 2.06-2.06.94zm-11 1L8.5 8.5l.94-2.06 2.06-.94-2.06-.94L8.5 2.5l-.94 2.06-2.06.94zm10 10l.94 2.06.94-2.06 2.06-.94-2.06-.94-.94-2.06-.94 2.06-2.06.94z\"/><path d=\"M17.41 7.96l-1.37-1.37c-.4-.4-.92-.59-1.43-.59-.52 0-1.04.2-1.43.59L10.3 9.45l-7.72 7.72c-.78.78-.78 2.05 0 2.83L4 21.41c.39.39.9.59 1.41.59.51 0 1.02-.2 1.41-.59l7.78-7.78 2.81-2.81c.8-.78.8-2.07 0-2.86zM5.41 20L4 18.59l7.72-7.72 1.47 1.35L5.41 20z\"/>\n",
              "  </svg>\n",
              "      </button>\n",
              "      \n",
              "  <style>\n",
              "    .colab-df-container {\n",
              "      display:flex;\n",
              "      flex-wrap:wrap;\n",
              "      gap: 12px;\n",
              "    }\n",
              "\n",
              "    .colab-df-convert {\n",
              "      background-color: #E8F0FE;\n",
              "      border: none;\n",
              "      border-radius: 50%;\n",
              "      cursor: pointer;\n",
              "      display: none;\n",
              "      fill: #1967D2;\n",
              "      height: 32px;\n",
              "      padding: 0 0 0 0;\n",
              "      width: 32px;\n",
              "    }\n",
              "\n",
              "    .colab-df-convert:hover {\n",
              "      background-color: #E2EBFA;\n",
              "      box-shadow: 0px 1px 2px rgba(60, 64, 67, 0.3), 0px 1px 3px 1px rgba(60, 64, 67, 0.15);\n",
              "      fill: #174EA6;\n",
              "    }\n",
              "\n",
              "    [theme=dark] .colab-df-convert {\n",
              "      background-color: #3B4455;\n",
              "      fill: #D2E3FC;\n",
              "    }\n",
              "\n",
              "    [theme=dark] .colab-df-convert:hover {\n",
              "      background-color: #434B5C;\n",
              "      box-shadow: 0px 1px 3px 1px rgba(0, 0, 0, 0.15);\n",
              "      filter: drop-shadow(0px 1px 2px rgba(0, 0, 0, 0.3));\n",
              "      fill: #FFFFFF;\n",
              "    }\n",
              "  </style>\n",
              "\n",
              "      <script>\n",
              "        const buttonEl =\n",
              "          document.querySelector('#df-8e66508a-cac4-4cbc-982f-66c64b800824 button.colab-df-convert');\n",
              "        buttonEl.style.display =\n",
              "          google.colab.kernel.accessAllowed ? 'block' : 'none';\n",
              "\n",
              "        async function convertToInteractive(key) {\n",
              "          const element = document.querySelector('#df-8e66508a-cac4-4cbc-982f-66c64b800824');\n",
              "          const dataTable =\n",
              "            await google.colab.kernel.invokeFunction('convertToInteractive',\n",
              "                                                     [key], {});\n",
              "          if (!dataTable) return;\n",
              "\n",
              "          const docLinkHtml = 'Like what you see? Visit the ' +\n",
              "            '<a target=\"_blank\" href=https://colab.research.google.com/notebooks/data_table.ipynb>data table notebook</a>'\n",
              "            + ' to learn more about interactive tables.';\n",
              "          element.innerHTML = '';\n",
              "          dataTable['output_type'] = 'display_data';\n",
              "          await google.colab.output.renderOutput(dataTable, element);\n",
              "          const docLink = document.createElement('div');\n",
              "          docLink.innerHTML = docLinkHtml;\n",
              "          element.appendChild(docLink);\n",
              "        }\n",
              "      </script>\n",
              "    </div>\n",
              "  </div>\n",
              "  "
            ]
          },
          "metadata": {},
          "execution_count": 2
        }
      ],
      "source": [
        "# загрузим данные и посмотрим датасет и общую инфо\n",
        "\n",
        "data = pd.read_csv('ebw_data.csv')\n",
        "data.head()"
      ]
    },
    {
      "cell_type": "code",
      "execution_count": 3,
      "metadata": {
        "ExecuteTime": {
          "end_time": "2022-11-09T06:49:02.741346Z",
          "start_time": "2022-11-09T06:49:02.302341Z"
        },
        "colab": {
          "base_uri": "https://localhost:8080/"
        },
        "id": "MCvMSgpqSJQX",
        "outputId": "dea45987-e0aa-4e72-c9a4-63667aa20046"
      },
      "outputs": [
        {
          "output_type": "stream",
          "name": "stdout",
          "text": [
            "<class 'pandas.core.frame.DataFrame'>\n",
            "RangeIndex: 72 entries, 0 to 71\n",
            "Data columns (total 6 columns):\n",
            " #   Column  Non-Null Count  Dtype  \n",
            "---  ------  --------------  -----  \n",
            " 0   IW      72 non-null     int64  \n",
            " 1   IF      72 non-null     int64  \n",
            " 2   VW      72 non-null     float64\n",
            " 3   FP      72 non-null     int64  \n",
            " 4   Depth   72 non-null     float64\n",
            " 5   Width   72 non-null     float64\n",
            "dtypes: float64(3), int64(3)\n",
            "memory usage: 3.5 KB\n"
          ]
        }
      ],
      "source": [
        "data.info()"
      ]
    },
    {
      "cell_type": "code",
      "execution_count": 4,
      "metadata": {
        "ExecuteTime": {
          "end_time": "2022-11-09T06:49:02.760345Z",
          "start_time": "2022-11-09T06:49:02.746345Z"
        },
        "colab": {
          "base_uri": "https://localhost:8080/"
        },
        "id": "NY5ZHVojZPcK",
        "outputId": "0efb9b1f-91f5-41fb-ae10-83207095f80d"
      },
      "outputs": [
        {
          "output_type": "execute_result",
          "data": {
            "text/plain": [
              "IW       0\n",
              "IF       0\n",
              "VW       0\n",
              "FP       0\n",
              "Depth    0\n",
              "Width    0\n",
              "dtype: int64"
            ]
          },
          "metadata": {},
          "execution_count": 4
        }
      ],
      "source": [
        "# посмотрим кол-во пропусков в датасете\n",
        "\n",
        "data.isna().sum()"
      ]
    },
    {
      "cell_type": "markdown",
      "metadata": {
        "id": "FT56Tb9_N9T0"
      },
      "source": [
        "**Мы видим, что в данных отсутствуют пропуски**"
      ]
    },
    {
      "cell_type": "code",
      "execution_count": 5,
      "metadata": {
        "ExecuteTime": {
          "end_time": "2022-11-09T06:49:03.092346Z",
          "start_time": "2022-11-09T06:49:02.762346Z"
        },
        "colab": {
          "base_uri": "https://localhost:8080/",
          "height": 238
        },
        "id": "FMo411gsNstp",
        "outputId": "36f685ad-f5ae-4037-d6b7-0d873580e4c9"
      },
      "outputs": [
        {
          "output_type": "execute_result",
          "data": {
            "text/plain": [
              "       count    mean    std     min     25%     50%     75%     max\n",
              "IW      72.0   45.67   1.68   43.00   44.00   45.50   47.00   49.00\n",
              "IF      72.0  141.33   5.15  131.00  139.00  141.00  146.00  150.00\n",
              "VW      72.0    8.64   2.06    4.50    8.00    9.00   10.00   12.00\n",
              "FP      72.0   78.33  21.49   50.00   60.00   80.00   80.00  125.00\n",
              "Depth   72.0    1.20   0.23    0.80    1.08    1.20    1.29    1.76\n",
              "Width   72.0    1.97   0.28    1.68    1.76    1.84    2.05    2.60"
            ],
            "text/html": [
              "\n",
              "  <div id=\"df-bceaad48-8454-422b-84b3-49aea42ce7e2\">\n",
              "    <div class=\"colab-df-container\">\n",
              "      <div>\n",
              "<style scoped>\n",
              "    .dataframe tbody tr th:only-of-type {\n",
              "        vertical-align: middle;\n",
              "    }\n",
              "\n",
              "    .dataframe tbody tr th {\n",
              "        vertical-align: top;\n",
              "    }\n",
              "\n",
              "    .dataframe thead th {\n",
              "        text-align: right;\n",
              "    }\n",
              "</style>\n",
              "<table border=\"1\" class=\"dataframe\">\n",
              "  <thead>\n",
              "    <tr style=\"text-align: right;\">\n",
              "      <th></th>\n",
              "      <th>count</th>\n",
              "      <th>mean</th>\n",
              "      <th>std</th>\n",
              "      <th>min</th>\n",
              "      <th>25%</th>\n",
              "      <th>50%</th>\n",
              "      <th>75%</th>\n",
              "      <th>max</th>\n",
              "    </tr>\n",
              "  </thead>\n",
              "  <tbody>\n",
              "    <tr>\n",
              "      <th>IW</th>\n",
              "      <td>72.0</td>\n",
              "      <td>45.67</td>\n",
              "      <td>1.68</td>\n",
              "      <td>43.00</td>\n",
              "      <td>44.00</td>\n",
              "      <td>45.50</td>\n",
              "      <td>47.00</td>\n",
              "      <td>49.00</td>\n",
              "    </tr>\n",
              "    <tr>\n",
              "      <th>IF</th>\n",
              "      <td>72.0</td>\n",
              "      <td>141.33</td>\n",
              "      <td>5.15</td>\n",
              "      <td>131.00</td>\n",
              "      <td>139.00</td>\n",
              "      <td>141.00</td>\n",
              "      <td>146.00</td>\n",
              "      <td>150.00</td>\n",
              "    </tr>\n",
              "    <tr>\n",
              "      <th>VW</th>\n",
              "      <td>72.0</td>\n",
              "      <td>8.64</td>\n",
              "      <td>2.06</td>\n",
              "      <td>4.50</td>\n",
              "      <td>8.00</td>\n",
              "      <td>9.00</td>\n",
              "      <td>10.00</td>\n",
              "      <td>12.00</td>\n",
              "    </tr>\n",
              "    <tr>\n",
              "      <th>FP</th>\n",
              "      <td>72.0</td>\n",
              "      <td>78.33</td>\n",
              "      <td>21.49</td>\n",
              "      <td>50.00</td>\n",
              "      <td>60.00</td>\n",
              "      <td>80.00</td>\n",
              "      <td>80.00</td>\n",
              "      <td>125.00</td>\n",
              "    </tr>\n",
              "    <tr>\n",
              "      <th>Depth</th>\n",
              "      <td>72.0</td>\n",
              "      <td>1.20</td>\n",
              "      <td>0.23</td>\n",
              "      <td>0.80</td>\n",
              "      <td>1.08</td>\n",
              "      <td>1.20</td>\n",
              "      <td>1.29</td>\n",
              "      <td>1.76</td>\n",
              "    </tr>\n",
              "    <tr>\n",
              "      <th>Width</th>\n",
              "      <td>72.0</td>\n",
              "      <td>1.97</td>\n",
              "      <td>0.28</td>\n",
              "      <td>1.68</td>\n",
              "      <td>1.76</td>\n",
              "      <td>1.84</td>\n",
              "      <td>2.05</td>\n",
              "      <td>2.60</td>\n",
              "    </tr>\n",
              "  </tbody>\n",
              "</table>\n",
              "</div>\n",
              "      <button class=\"colab-df-convert\" onclick=\"convertToInteractive('df-bceaad48-8454-422b-84b3-49aea42ce7e2')\"\n",
              "              title=\"Convert this dataframe to an interactive table.\"\n",
              "              style=\"display:none;\">\n",
              "        \n",
              "  <svg xmlns=\"http://www.w3.org/2000/svg\" height=\"24px\"viewBox=\"0 0 24 24\"\n",
              "       width=\"24px\">\n",
              "    <path d=\"M0 0h24v24H0V0z\" fill=\"none\"/>\n",
              "    <path d=\"M18.56 5.44l.94 2.06.94-2.06 2.06-.94-2.06-.94-.94-2.06-.94 2.06-2.06.94zm-11 1L8.5 8.5l.94-2.06 2.06-.94-2.06-.94L8.5 2.5l-.94 2.06-2.06.94zm10 10l.94 2.06.94-2.06 2.06-.94-2.06-.94-.94-2.06-.94 2.06-2.06.94z\"/><path d=\"M17.41 7.96l-1.37-1.37c-.4-.4-.92-.59-1.43-.59-.52 0-1.04.2-1.43.59L10.3 9.45l-7.72 7.72c-.78.78-.78 2.05 0 2.83L4 21.41c.39.39.9.59 1.41.59.51 0 1.02-.2 1.41-.59l7.78-7.78 2.81-2.81c.8-.78.8-2.07 0-2.86zM5.41 20L4 18.59l7.72-7.72 1.47 1.35L5.41 20z\"/>\n",
              "  </svg>\n",
              "      </button>\n",
              "      \n",
              "  <style>\n",
              "    .colab-df-container {\n",
              "      display:flex;\n",
              "      flex-wrap:wrap;\n",
              "      gap: 12px;\n",
              "    }\n",
              "\n",
              "    .colab-df-convert {\n",
              "      background-color: #E8F0FE;\n",
              "      border: none;\n",
              "      border-radius: 50%;\n",
              "      cursor: pointer;\n",
              "      display: none;\n",
              "      fill: #1967D2;\n",
              "      height: 32px;\n",
              "      padding: 0 0 0 0;\n",
              "      width: 32px;\n",
              "    }\n",
              "\n",
              "    .colab-df-convert:hover {\n",
              "      background-color: #E2EBFA;\n",
              "      box-shadow: 0px 1px 2px rgba(60, 64, 67, 0.3), 0px 1px 3px 1px rgba(60, 64, 67, 0.15);\n",
              "      fill: #174EA6;\n",
              "    }\n",
              "\n",
              "    [theme=dark] .colab-df-convert {\n",
              "      background-color: #3B4455;\n",
              "      fill: #D2E3FC;\n",
              "    }\n",
              "\n",
              "    [theme=dark] .colab-df-convert:hover {\n",
              "      background-color: #434B5C;\n",
              "      box-shadow: 0px 1px 3px 1px rgba(0, 0, 0, 0.15);\n",
              "      filter: drop-shadow(0px 1px 2px rgba(0, 0, 0, 0.3));\n",
              "      fill: #FFFFFF;\n",
              "    }\n",
              "  </style>\n",
              "\n",
              "      <script>\n",
              "        const buttonEl =\n",
              "          document.querySelector('#df-bceaad48-8454-422b-84b3-49aea42ce7e2 button.colab-df-convert');\n",
              "        buttonEl.style.display =\n",
              "          google.colab.kernel.accessAllowed ? 'block' : 'none';\n",
              "\n",
              "        async function convertToInteractive(key) {\n",
              "          const element = document.querySelector('#df-bceaad48-8454-422b-84b3-49aea42ce7e2');\n",
              "          const dataTable =\n",
              "            await google.colab.kernel.invokeFunction('convertToInteractive',\n",
              "                                                     [key], {});\n",
              "          if (!dataTable) return;\n",
              "\n",
              "          const docLinkHtml = 'Like what you see? Visit the ' +\n",
              "            '<a target=\"_blank\" href=https://colab.research.google.com/notebooks/data_table.ipynb>data table notebook</a>'\n",
              "            + ' to learn more about interactive tables.';\n",
              "          element.innerHTML = '';\n",
              "          dataTable['output_type'] = 'display_data';\n",
              "          await google.colab.output.renderOutput(dataTable, element);\n",
              "          const docLink = document.createElement('div');\n",
              "          docLink.innerHTML = docLinkHtml;\n",
              "          element.appendChild(docLink);\n",
              "        }\n",
              "      </script>\n",
              "    </div>\n",
              "  </div>\n",
              "  "
            ]
          },
          "metadata": {},
          "execution_count": 5
        }
      ],
      "source": [
        "# Посмотрим описательную статистику данных\n",
        "\n",
        "data.describe().round(2).T"
      ]
    },
    {
      "cell_type": "code",
      "execution_count": 6,
      "metadata": {
        "ExecuteTime": {
          "end_time": "2022-11-09T06:49:03.150344Z",
          "start_time": "2022-11-09T06:49:03.095346Z"
        },
        "colab": {
          "base_uri": "https://localhost:8080/",
          "height": 238
        },
        "id": "cG4IlSKCRoPi",
        "outputId": "4c882536-315b-487d-e869-1c79b38bf7b1"
      },
      "outputs": [
        {
          "output_type": "execute_result",
          "data": {
            "text/plain": [
              "             IW        IF        VW        FP     Depth     Width\n",
              "IW     1.000000 -0.861073 -0.043430  0.835530 -0.289568  0.434869\n",
              "IF    -0.861073  1.000000  0.115093 -0.980562  0.376084 -0.510167\n",
              "VW    -0.043430  0.115093  1.000000 -0.001060 -0.671437 -0.874257\n",
              "FP     0.835530 -0.980562 -0.001060  1.000000 -0.510748  0.412962\n",
              "Depth -0.289568  0.376084 -0.671437 -0.510748  1.000000  0.425391\n",
              "Width  0.434869 -0.510167 -0.874257  0.412962  0.425391  1.000000"
            ],
            "text/html": [
              "\n",
              "  <div id=\"df-a4e49599-fb49-4a87-b3f7-81ae1067e95c\">\n",
              "    <div class=\"colab-df-container\">\n",
              "      <div>\n",
              "<style scoped>\n",
              "    .dataframe tbody tr th:only-of-type {\n",
              "        vertical-align: middle;\n",
              "    }\n",
              "\n",
              "    .dataframe tbody tr th {\n",
              "        vertical-align: top;\n",
              "    }\n",
              "\n",
              "    .dataframe thead th {\n",
              "        text-align: right;\n",
              "    }\n",
              "</style>\n",
              "<table border=\"1\" class=\"dataframe\">\n",
              "  <thead>\n",
              "    <tr style=\"text-align: right;\">\n",
              "      <th></th>\n",
              "      <th>IW</th>\n",
              "      <th>IF</th>\n",
              "      <th>VW</th>\n",
              "      <th>FP</th>\n",
              "      <th>Depth</th>\n",
              "      <th>Width</th>\n",
              "    </tr>\n",
              "  </thead>\n",
              "  <tbody>\n",
              "    <tr>\n",
              "      <th>IW</th>\n",
              "      <td>1.000000</td>\n",
              "      <td>-0.861073</td>\n",
              "      <td>-0.043430</td>\n",
              "      <td>0.835530</td>\n",
              "      <td>-0.289568</td>\n",
              "      <td>0.434869</td>\n",
              "    </tr>\n",
              "    <tr>\n",
              "      <th>IF</th>\n",
              "      <td>-0.861073</td>\n",
              "      <td>1.000000</td>\n",
              "      <td>0.115093</td>\n",
              "      <td>-0.980562</td>\n",
              "      <td>0.376084</td>\n",
              "      <td>-0.510167</td>\n",
              "    </tr>\n",
              "    <tr>\n",
              "      <th>VW</th>\n",
              "      <td>-0.043430</td>\n",
              "      <td>0.115093</td>\n",
              "      <td>1.000000</td>\n",
              "      <td>-0.001060</td>\n",
              "      <td>-0.671437</td>\n",
              "      <td>-0.874257</td>\n",
              "    </tr>\n",
              "    <tr>\n",
              "      <th>FP</th>\n",
              "      <td>0.835530</td>\n",
              "      <td>-0.980562</td>\n",
              "      <td>-0.001060</td>\n",
              "      <td>1.000000</td>\n",
              "      <td>-0.510748</td>\n",
              "      <td>0.412962</td>\n",
              "    </tr>\n",
              "    <tr>\n",
              "      <th>Depth</th>\n",
              "      <td>-0.289568</td>\n",
              "      <td>0.376084</td>\n",
              "      <td>-0.671437</td>\n",
              "      <td>-0.510748</td>\n",
              "      <td>1.000000</td>\n",
              "      <td>0.425391</td>\n",
              "    </tr>\n",
              "    <tr>\n",
              "      <th>Width</th>\n",
              "      <td>0.434869</td>\n",
              "      <td>-0.510167</td>\n",
              "      <td>-0.874257</td>\n",
              "      <td>0.412962</td>\n",
              "      <td>0.425391</td>\n",
              "      <td>1.000000</td>\n",
              "    </tr>\n",
              "  </tbody>\n",
              "</table>\n",
              "</div>\n",
              "      <button class=\"colab-df-convert\" onclick=\"convertToInteractive('df-a4e49599-fb49-4a87-b3f7-81ae1067e95c')\"\n",
              "              title=\"Convert this dataframe to an interactive table.\"\n",
              "              style=\"display:none;\">\n",
              "        \n",
              "  <svg xmlns=\"http://www.w3.org/2000/svg\" height=\"24px\"viewBox=\"0 0 24 24\"\n",
              "       width=\"24px\">\n",
              "    <path d=\"M0 0h24v24H0V0z\" fill=\"none\"/>\n",
              "    <path d=\"M18.56 5.44l.94 2.06.94-2.06 2.06-.94-2.06-.94-.94-2.06-.94 2.06-2.06.94zm-11 1L8.5 8.5l.94-2.06 2.06-.94-2.06-.94L8.5 2.5l-.94 2.06-2.06.94zm10 10l.94 2.06.94-2.06 2.06-.94-2.06-.94-.94-2.06-.94 2.06-2.06.94z\"/><path d=\"M17.41 7.96l-1.37-1.37c-.4-.4-.92-.59-1.43-.59-.52 0-1.04.2-1.43.59L10.3 9.45l-7.72 7.72c-.78.78-.78 2.05 0 2.83L4 21.41c.39.39.9.59 1.41.59.51 0 1.02-.2 1.41-.59l7.78-7.78 2.81-2.81c.8-.78.8-2.07 0-2.86zM5.41 20L4 18.59l7.72-7.72 1.47 1.35L5.41 20z\"/>\n",
              "  </svg>\n",
              "      </button>\n",
              "      \n",
              "  <style>\n",
              "    .colab-df-container {\n",
              "      display:flex;\n",
              "      flex-wrap:wrap;\n",
              "      gap: 12px;\n",
              "    }\n",
              "\n",
              "    .colab-df-convert {\n",
              "      background-color: #E8F0FE;\n",
              "      border: none;\n",
              "      border-radius: 50%;\n",
              "      cursor: pointer;\n",
              "      display: none;\n",
              "      fill: #1967D2;\n",
              "      height: 32px;\n",
              "      padding: 0 0 0 0;\n",
              "      width: 32px;\n",
              "    }\n",
              "\n",
              "    .colab-df-convert:hover {\n",
              "      background-color: #E2EBFA;\n",
              "      box-shadow: 0px 1px 2px rgba(60, 64, 67, 0.3), 0px 1px 3px 1px rgba(60, 64, 67, 0.15);\n",
              "      fill: #174EA6;\n",
              "    }\n",
              "\n",
              "    [theme=dark] .colab-df-convert {\n",
              "      background-color: #3B4455;\n",
              "      fill: #D2E3FC;\n",
              "    }\n",
              "\n",
              "    [theme=dark] .colab-df-convert:hover {\n",
              "      background-color: #434B5C;\n",
              "      box-shadow: 0px 1px 3px 1px rgba(0, 0, 0, 0.15);\n",
              "      filter: drop-shadow(0px 1px 2px rgba(0, 0, 0, 0.3));\n",
              "      fill: #FFFFFF;\n",
              "    }\n",
              "  </style>\n",
              "\n",
              "      <script>\n",
              "        const buttonEl =\n",
              "          document.querySelector('#df-a4e49599-fb49-4a87-b3f7-81ae1067e95c button.colab-df-convert');\n",
              "        buttonEl.style.display =\n",
              "          google.colab.kernel.accessAllowed ? 'block' : 'none';\n",
              "\n",
              "        async function convertToInteractive(key) {\n",
              "          const element = document.querySelector('#df-a4e49599-fb49-4a87-b3f7-81ae1067e95c');\n",
              "          const dataTable =\n",
              "            await google.colab.kernel.invokeFunction('convertToInteractive',\n",
              "                                                     [key], {});\n",
              "          if (!dataTable) return;\n",
              "\n",
              "          const docLinkHtml = 'Like what you see? Visit the ' +\n",
              "            '<a target=\"_blank\" href=https://colab.research.google.com/notebooks/data_table.ipynb>data table notebook</a>'\n",
              "            + ' to learn more about interactive tables.';\n",
              "          element.innerHTML = '';\n",
              "          dataTable['output_type'] = 'display_data';\n",
              "          await google.colab.output.renderOutput(dataTable, element);\n",
              "          const docLink = document.createElement('div');\n",
              "          docLink.innerHTML = docLinkHtml;\n",
              "          element.appendChild(docLink);\n",
              "        }\n",
              "      </script>\n",
              "    </div>\n",
              "  </div>\n",
              "  "
            ]
          },
          "metadata": {},
          "execution_count": 6
        }
      ],
      "source": [
        "# Посмотрим корреляцию\n",
        "\n",
        "data.corr()"
      ]
    },
    {
      "cell_type": "markdown",
      "metadata": {
        "id": "AzsQMMMQVVkG"
      },
      "source": [
        "**Явной корреляции не наблюдается**"
      ]
    },
    {
      "cell_type": "code",
      "execution_count": 7,
      "metadata": {
        "ExecuteTime": {
          "end_time": "2022-11-09T06:49:03.635344Z",
          "start_time": "2022-11-09T06:49:03.287344Z"
        },
        "id": "ug5FtgJqPAfB"
      },
      "outputs": [],
      "source": [
        "# разделяем датасет на тренировочный и тестирующий\n",
        "\n",
        "train_dataset = data.sample(frac=0.8, random_state=10)\n",
        "test_dataset = data.drop(train_dataset.index)\n"
      ]
    },
    {
      "cell_type": "code",
      "execution_count": 8,
      "metadata": {
        "ExecuteTime": {
          "end_time": "2022-11-09T06:49:03.664344Z",
          "start_time": "2022-11-09T06:49:03.637344Z"
        },
        "id": "WlS9r6tolvol"
      },
      "outputs": [],
      "source": [
        "# тренировочный и тестовый датасеты мы подразделяем на признаки и на то, что будем предсказывать\n",
        "\n",
        "train_features = train_dataset.iloc[:,:-2]\n",
        "test_features = test_dataset.iloc[:,:-2]\n",
        "\n",
        "train_labels = train_dataset.iloc[:, 4:]\n",
        "test_labels = test_dataset.iloc[:, 4:]"
      ]
    },
    {
      "cell_type": "code",
      "execution_count": 9,
      "metadata": {
        "ExecuteTime": {
          "end_time": "2022-11-09T06:49:04.325353Z",
          "start_time": "2022-11-09T06:49:03.668342Z"
        },
        "id": "4dzLKtcKvzAH"
      },
      "outputs": [],
      "source": [
        "# слой, который делает преобразование нашего признака\n",
        "\n",
        "normalizer = tf.keras.layers.Normalization(axis=1)"
      ]
    },
    {
      "cell_type": "code",
      "execution_count": 10,
      "metadata": {
        "ExecuteTime": {
          "end_time": "2022-11-09T06:49:11.920352Z",
          "start_time": "2022-11-09T06:49:04.327344Z"
        },
        "id": "HbVpsfogv6Z3"
      },
      "outputs": [],
      "source": [
        "# адаптируем наш нормалайзер к нашим тренировочным обучающим примерам\n",
        "\n",
        "normalizer.adapt(np.array(train_features))"
      ]
    },
    {
      "cell_type": "code",
      "execution_count": 11,
      "metadata": {
        "ExecuteTime": {
          "end_time": "2022-11-09T06:49:12.227344Z",
          "start_time": "2022-11-09T06:49:11.922342Z"
        },
        "colab": {
          "base_uri": "https://localhost:8080/"
        },
        "id": "Vdz0JP7rv9qc",
        "outputId": "271398c4-bde5-4bb9-bc0e-90ed0fedec92"
      },
      "outputs": [
        {
          "output_type": "stream",
          "name": "stdout",
          "text": [
            "First example: [[ 45. 146.   9.  60.]]\n",
            "\n",
            "Normalized: <bound method _EagerTensorBase.numpy of <tf.Tensor: shape=(1, 4), dtype=float32, numpy=array([[-0.41,  0.91,  0.11, -0.86]], dtype=float32)>>\n"
          ]
        }
      ],
      "source": [
        "# после преобразования ниже мы получаем нормализованный вид данных\n",
        "\n",
        "first = np.array(train_features[:1])\n",
        "\n",
        "with np.printoptions(precision=2):\n",
        "    print('First example:', first)\n",
        "    print()\n",
        "    print('Normalized:',normalizer(first).numpy )"
      ]
    },
    {
      "cell_type": "markdown",
      "metadata": {
        "id": "gYzchCEmgZVY"
      },
      "source": [
        "## Построим линейную модель зависимости размеров сварных швов от скорости сварки"
      ]
    },
    {
      "cell_type": "markdown",
      "source": [
        "## VW_normalizer"
      ],
      "metadata": {
        "id": "oldpg1T0Ez11"
      }
    },
    {
      "cell_type": "code",
      "execution_count": 12,
      "metadata": {
        "ExecuteTime": {
          "end_time": "2022-11-09T06:49:12.597342Z",
          "start_time": "2022-11-09T06:49:12.229345Z"
        },
        "id": "HXej-RHRwp5p"
      },
      "outputs": [],
      "source": [
        "# создаем нормалайзер, который адаптируется к скорости сварки\n",
        "\n",
        "VW = np.array(train_features['VW'])\n",
        "VW_normalizer = layers.Normalization(input_shape=[1,], axis=None)\n",
        "VW_normalizer.adapt(VW)"
      ]
    },
    {
      "cell_type": "code",
      "execution_count": 13,
      "metadata": {
        "ExecuteTime": {
          "end_time": "2022-11-09T06:49:13.066342Z",
          "start_time": "2022-11-09T06:49:12.600341Z"
        },
        "colab": {
          "base_uri": "https://localhost:8080/"
        },
        "id": "Iu3Vyei8yFAz",
        "outputId": "454fd961-51f9-4d1c-c261-ceb129cf74de"
      },
      "outputs": [
        {
          "output_type": "stream",
          "name": "stdout",
          "text": [
            "Model: \"sequential\"\n",
            "_________________________________________________________________\n",
            " Layer (type)                Output Shape              Param #   \n",
            "=================================================================\n",
            " normalization_1 (Normalizat  (None, 1)                3         \n",
            " ion)                                                            \n",
            "                                                                 \n",
            " dense (Dense)               (None, 2)                 4         \n",
            "                                                                 \n",
            "=================================================================\n",
            "Total params: 7\n",
            "Trainable params: 4\n",
            "Non-trainable params: 3\n",
            "_________________________________________________________________\n"
          ]
        }
      ],
      "source": [
        "# создаем нашу нейронную сеть\n",
        "\n",
        "VW_model = tf.keras.Sequential([\n",
        "    VW_normalizer, #первый слой\n",
        "    layers.Dense(units=2) #полносвязный слой\n",
        "])\n",
        "\n",
        "VW_model.summary()"
      ]
    },
    {
      "cell_type": "code",
      "execution_count": 14,
      "metadata": {
        "ExecuteTime": {
          "end_time": "2022-11-09T06:49:13.488345Z",
          "start_time": "2022-11-09T06:49:13.068346Z"
        },
        "colab": {
          "base_uri": "https://localhost:8080/"
        },
        "id": "DgNUnEhdyRsf",
        "outputId": "fd8c4e9b-643b-405b-fe7b-38b1cacd197d"
      },
      "outputs": [
        {
          "output_type": "stream",
          "name": "stdout",
          "text": [
            "1/1 [==============================] - 1s 633ms/step\n"
          ]
        },
        {
          "output_type": "execute_result",
          "data": {
            "text/plain": [
              "array([[-0.046, -0.071],\n",
              "       [ 0.848,  1.309],\n",
              "       [-0.245, -0.378],\n",
              "       [ 0.153,  0.235],\n",
              "       [ 0.848,  1.309],\n",
              "       [ 0.848,  1.309],\n",
              "       [-0.046, -0.071],\n",
              "       [-0.245, -0.378],\n",
              "       [-0.245, -0.378],\n",
              "       [-0.046, -0.071]], dtype=float32)"
            ]
          },
          "metadata": {},
          "execution_count": 14
        }
      ],
      "source": [
        "# предсказываем значения\n",
        "\n",
        "VW_model.predict(VW[:10])"
      ]
    },
    {
      "cell_type": "code",
      "execution_count": 15,
      "metadata": {
        "ExecuteTime": {
          "end_time": "2022-11-09T06:49:13.500345Z",
          "start_time": "2022-11-09T06:49:13.491361Z"
        },
        "colab": {
          "base_uri": "https://localhost:8080/"
        },
        "id": "w132Yxjryc6u",
        "outputId": "935f67de-06b0-4cfc-fe9d-f22dc230a0b4"
      },
      "outputs": [
        {
          "output_type": "execute_result",
          "data": {
            "text/plain": [
              "array([[1.28, 1.76],\n",
              "       [1.58, 2.52],\n",
              "       [0.92, 1.86],\n",
              "       [0.8 , 2.28],\n",
              "       [1.68, 2.6 ],\n",
              "       [1.64, 2.52],\n",
              "       [1.24, 1.8 ],\n",
              "       [1.16, 1.8 ],\n",
              "       [0.84, 2.16],\n",
              "       [1.2 , 1.88]])"
            ]
          },
          "metadata": {},
          "execution_count": 15
        }
      ],
      "source": [
        "# выведем значения, которые мы имеем\n",
        "\n",
        "train_labels.values[:10]"
      ]
    },
    {
      "cell_type": "code",
      "execution_count": 16,
      "metadata": {
        "ExecuteTime": {
          "end_time": "2022-11-09T06:49:13.655350Z",
          "start_time": "2022-11-09T06:49:13.502342Z"
        },
        "id": "gS095trzygfF"
      },
      "outputs": [],
      "source": [
        "# компелируем модель\n",
        "\n",
        "VW_model.compile(\n",
        "    optimizer = tf.optimizers.Adam(learning_rate = 0.1), \n",
        "    loss = 'mean_absolute_error')\n",
        "   "
      ]
    },
    {
      "cell_type": "code",
      "execution_count": 17,
      "metadata": {
        "ExecuteTime": {
          "end_time": "2022-11-09T06:49:19.239367Z",
          "start_time": "2022-11-09T06:49:13.657344Z"
        },
        "colab": {
          "base_uri": "https://localhost:8080/"
        },
        "id": "w0iQ0JlaziyI",
        "outputId": "4930e7df-37f2-4786-edb6-8f497b700ae0"
      },
      "outputs": [
        {
          "output_type": "stream",
          "name": "stdout",
          "text": [
            "Epoch 1/100\n",
            "2/2 [==============================] - 0s 152ms/step - loss: 1.5518 - val_loss: 1.3935\n",
            "Epoch 2/100\n",
            "2/2 [==============================] - 0s 20ms/step - loss: 1.3472 - val_loss: 1.1996\n",
            "Epoch 3/100\n",
            "2/2 [==============================] - 0s 26ms/step - loss: 1.1399 - val_loss: 1.0013\n",
            "Epoch 4/100\n",
            "2/2 [==============================] - 0s 22ms/step - loss: 0.9495 - val_loss: 0.8022\n",
            "Epoch 5/100\n",
            "2/2 [==============================] - 0s 21ms/step - loss: 0.7634 - val_loss: 0.6080\n",
            "Epoch 6/100\n",
            "2/2 [==============================] - 0s 21ms/step - loss: 0.5845 - val_loss: 0.4504\n",
            "Epoch 7/100\n",
            "2/2 [==============================] - 0s 20ms/step - loss: 0.4556 - val_loss: 0.3771\n",
            "Epoch 8/100\n",
            "2/2 [==============================] - 0s 20ms/step - loss: 0.3746 - val_loss: 0.3158\n",
            "Epoch 9/100\n",
            "2/2 [==============================] - 0s 41ms/step - loss: 0.3081 - val_loss: 0.2213\n",
            "Epoch 10/100\n",
            "2/2 [==============================] - 0s 76ms/step - loss: 0.2286 - val_loss: 0.1750\n",
            "Epoch 11/100\n",
            "2/2 [==============================] - 0s 46ms/step - loss: 0.1953 - val_loss: 0.1799\n",
            "Epoch 12/100\n",
            "2/2 [==============================] - 0s 40ms/step - loss: 0.1948 - val_loss: 0.1902\n",
            "Epoch 13/100\n",
            "2/2 [==============================] - 0s 35ms/step - loss: 0.1965 - val_loss: 0.2152\n",
            "Epoch 14/100\n",
            "2/2 [==============================] - 0s 37ms/step - loss: 0.2163 - val_loss: 0.2223\n",
            "Epoch 15/100\n",
            "2/2 [==============================] - 0s 51ms/step - loss: 0.2253 - val_loss: 0.2096\n",
            "Epoch 16/100\n",
            "2/2 [==============================] - 0s 42ms/step - loss: 0.2082 - val_loss: 0.1806\n",
            "Epoch 17/100\n",
            "2/2 [==============================] - 0s 46ms/step - loss: 0.1815 - val_loss: 0.1417\n",
            "Epoch 18/100\n",
            "2/2 [==============================] - 0s 33ms/step - loss: 0.1450 - val_loss: 0.1144\n",
            "Epoch 19/100\n",
            "2/2 [==============================] - 0s 41ms/step - loss: 0.1396 - val_loss: 0.1038\n",
            "Epoch 20/100\n",
            "2/2 [==============================] - 0s 40ms/step - loss: 0.1447 - val_loss: 0.1060\n",
            "Epoch 21/100\n",
            "2/2 [==============================] - 0s 42ms/step - loss: 0.1514 - val_loss: 0.1132\n",
            "Epoch 22/100\n",
            "2/2 [==============================] - 0s 27ms/step - loss: 0.1497 - val_loss: 0.1188\n",
            "Epoch 23/100\n",
            "2/2 [==============================] - 0s 30ms/step - loss: 0.1456 - val_loss: 0.1207\n",
            "Epoch 24/100\n",
            "2/2 [==============================] - 0s 35ms/step - loss: 0.1410 - val_loss: 0.1218\n",
            "Epoch 25/100\n",
            "2/2 [==============================] - 0s 29ms/step - loss: 0.1327 - val_loss: 0.1216\n",
            "Epoch 26/100\n",
            "2/2 [==============================] - 0s 37ms/step - loss: 0.1335 - val_loss: 0.1182\n",
            "Epoch 27/100\n",
            "2/2 [==============================] - 0s 53ms/step - loss: 0.1327 - val_loss: 0.1161\n",
            "Epoch 28/100\n",
            "2/2 [==============================] - 0s 41ms/step - loss: 0.1406 - val_loss: 0.1165\n",
            "Epoch 29/100\n",
            "2/2 [==============================] - 0s 34ms/step - loss: 0.1342 - val_loss: 0.1252\n",
            "Epoch 30/100\n",
            "2/2 [==============================] - 0s 35ms/step - loss: 0.1343 - val_loss: 0.1266\n",
            "Epoch 31/100\n",
            "2/2 [==============================] - 0s 49ms/step - loss: 0.1345 - val_loss: 0.1228\n",
            "Epoch 32/100\n",
            "2/2 [==============================] - 0s 33ms/step - loss: 0.1337 - val_loss: 0.1166\n",
            "Epoch 33/100\n",
            "2/2 [==============================] - 0s 34ms/step - loss: 0.1297 - val_loss: 0.1150\n",
            "Epoch 34/100\n",
            "2/2 [==============================] - 0s 30ms/step - loss: 0.1313 - val_loss: 0.1125\n",
            "Epoch 35/100\n",
            "2/2 [==============================] - 0s 48ms/step - loss: 0.1318 - val_loss: 0.1078\n",
            "Epoch 36/100\n",
            "2/2 [==============================] - 0s 61ms/step - loss: 0.1299 - val_loss: 0.1097\n",
            "Epoch 37/100\n",
            "2/2 [==============================] - 0s 40ms/step - loss: 0.1281 - val_loss: 0.1134\n",
            "Epoch 38/100\n",
            "2/2 [==============================] - 0s 39ms/step - loss: 0.1282 - val_loss: 0.1133\n",
            "Epoch 39/100\n",
            "2/2 [==============================] - 0s 44ms/step - loss: 0.1293 - val_loss: 0.1085\n",
            "Epoch 40/100\n",
            "2/2 [==============================] - 0s 53ms/step - loss: 0.1287 - val_loss: 0.1072\n",
            "Epoch 41/100\n",
            "2/2 [==============================] - 0s 33ms/step - loss: 0.1284 - val_loss: 0.1090\n",
            "Epoch 42/100\n",
            "2/2 [==============================] - 0s 30ms/step - loss: 0.1274 - val_loss: 0.1094\n",
            "Epoch 43/100\n",
            "2/2 [==============================] - 0s 30ms/step - loss: 0.1278 - val_loss: 0.1085\n",
            "Epoch 44/100\n",
            "2/2 [==============================] - 0s 39ms/step - loss: 0.1274 - val_loss: 0.1112\n",
            "Epoch 45/100\n",
            "2/2 [==============================] - 0s 45ms/step - loss: 0.1286 - val_loss: 0.1122\n",
            "Epoch 46/100\n",
            "2/2 [==============================] - 0s 42ms/step - loss: 0.1276 - val_loss: 0.1107\n",
            "Epoch 47/100\n",
            "2/2 [==============================] - 0s 36ms/step - loss: 0.1290 - val_loss: 0.1116\n",
            "Epoch 48/100\n",
            "2/2 [==============================] - 0s 34ms/step - loss: 0.1287 - val_loss: 0.1117\n",
            "Epoch 49/100\n",
            "2/2 [==============================] - 0s 40ms/step - loss: 0.1281 - val_loss: 0.1138\n",
            "Epoch 50/100\n",
            "2/2 [==============================] - 0s 58ms/step - loss: 0.1318 - val_loss: 0.1078\n",
            "Epoch 51/100\n",
            "2/2 [==============================] - 0s 34ms/step - loss: 0.1302 - val_loss: 0.1078\n",
            "Epoch 52/100\n",
            "2/2 [==============================] - 0s 30ms/step - loss: 0.1302 - val_loss: 0.1107\n",
            "Epoch 53/100\n",
            "2/2 [==============================] - 0s 34ms/step - loss: 0.1300 - val_loss: 0.1138\n",
            "Epoch 54/100\n",
            "2/2 [==============================] - 0s 61ms/step - loss: 0.1290 - val_loss: 0.1142\n",
            "Epoch 55/100\n",
            "2/2 [==============================] - 0s 104ms/step - loss: 0.1284 - val_loss: 0.1114\n",
            "Epoch 56/100\n",
            "2/2 [==============================] - 0s 29ms/step - loss: 0.1290 - val_loss: 0.1112\n",
            "Epoch 57/100\n",
            "2/2 [==============================] - 0s 28ms/step - loss: 0.1282 - val_loss: 0.1109\n",
            "Epoch 58/100\n",
            "2/2 [==============================] - 0s 41ms/step - loss: 0.1280 - val_loss: 0.1120\n",
            "Epoch 59/100\n",
            "2/2 [==============================] - 0s 33ms/step - loss: 0.1275 - val_loss: 0.1071\n",
            "Epoch 60/100\n",
            "2/2 [==============================] - 0s 33ms/step - loss: 0.1290 - val_loss: 0.1039\n",
            "Epoch 61/100\n",
            "2/2 [==============================] - 0s 32ms/step - loss: 0.1303 - val_loss: 0.1071\n",
            "Epoch 62/100\n",
            "2/2 [==============================] - 0s 38ms/step - loss: 0.1285 - val_loss: 0.1135\n",
            "Epoch 63/100\n",
            "2/2 [==============================] - 0s 38ms/step - loss: 0.1287 - val_loss: 0.1159\n",
            "Epoch 64/100\n",
            "2/2 [==============================] - 0s 29ms/step - loss: 0.1288 - val_loss: 0.1120\n",
            "Epoch 65/100\n",
            "2/2 [==============================] - 0s 33ms/step - loss: 0.1286 - val_loss: 0.1120\n",
            "Epoch 66/100\n",
            "2/2 [==============================] - 0s 37ms/step - loss: 0.1314 - val_loss: 0.1105\n",
            "Epoch 67/100\n",
            "2/2 [==============================] - 0s 64ms/step - loss: 0.1299 - val_loss: 0.1092\n",
            "Epoch 68/100\n",
            "2/2 [==============================] - 0s 31ms/step - loss: 0.1295 - val_loss: 0.1147\n",
            "Epoch 69/100\n",
            "2/2 [==============================] - 0s 35ms/step - loss: 0.1318 - val_loss: 0.1110\n",
            "Epoch 70/100\n",
            "2/2 [==============================] - 0s 28ms/step - loss: 0.1267 - val_loss: 0.1108\n",
            "Epoch 71/100\n",
            "2/2 [==============================] - 0s 32ms/step - loss: 0.1334 - val_loss: 0.1116\n",
            "Epoch 72/100\n",
            "2/2 [==============================] - 0s 66ms/step - loss: 0.1321 - val_loss: 0.1173\n",
            "Epoch 73/100\n",
            "2/2 [==============================] - 0s 38ms/step - loss: 0.1320 - val_loss: 0.1159\n",
            "Epoch 74/100\n",
            "2/2 [==============================] - 0s 33ms/step - loss: 0.1290 - val_loss: 0.1105\n",
            "Epoch 75/100\n",
            "2/2 [==============================] - 0s 32ms/step - loss: 0.1303 - val_loss: 0.1069\n",
            "Epoch 76/100\n",
            "2/2 [==============================] - 0s 57ms/step - loss: 0.1317 - val_loss: 0.1065\n",
            "Epoch 77/100\n",
            "2/2 [==============================] - 0s 49ms/step - loss: 0.1302 - val_loss: 0.1114\n",
            "Epoch 78/100\n",
            "2/2 [==============================] - 0s 42ms/step - loss: 0.1294 - val_loss: 0.1184\n",
            "Epoch 79/100\n",
            "2/2 [==============================] - 0s 66ms/step - loss: 0.1294 - val_loss: 0.1189\n",
            "Epoch 80/100\n",
            "2/2 [==============================] - 0s 31ms/step - loss: 0.1300 - val_loss: 0.1224\n",
            "Epoch 81/100\n",
            "2/2 [==============================] - 0s 47ms/step - loss: 0.1327 - val_loss: 0.1259\n",
            "Epoch 82/100\n",
            "2/2 [==============================] - 0s 29ms/step - loss: 0.1311 - val_loss: 0.1140\n",
            "Epoch 83/100\n",
            "2/2 [==============================] - 0s 51ms/step - loss: 0.1280 - val_loss: 0.1024\n",
            "Epoch 84/100\n",
            "2/2 [==============================] - 0s 40ms/step - loss: 0.1341 - val_loss: 0.1013\n",
            "Epoch 85/100\n",
            "2/2 [==============================] - 0s 37ms/step - loss: 0.1328 - val_loss: 0.1087\n",
            "Epoch 86/100\n",
            "2/2 [==============================] - 0s 64ms/step - loss: 0.1318 - val_loss: 0.1119\n",
            "Epoch 87/100\n",
            "2/2 [==============================] - 0s 32ms/step - loss: 0.1295 - val_loss: 0.1098\n",
            "Epoch 88/100\n",
            "2/2 [==============================] - 0s 59ms/step - loss: 0.1291 - val_loss: 0.1142\n",
            "Epoch 89/100\n",
            "2/2 [==============================] - 0s 38ms/step - loss: 0.1319 - val_loss: 0.1172\n",
            "Epoch 90/100\n",
            "2/2 [==============================] - 0s 31ms/step - loss: 0.1287 - val_loss: 0.1235\n",
            "Epoch 91/100\n",
            "2/2 [==============================] - 0s 32ms/step - loss: 0.1319 - val_loss: 0.1199\n",
            "Epoch 92/100\n",
            "2/2 [==============================] - 0s 90ms/step - loss: 0.1327 - val_loss: 0.1176\n",
            "Epoch 93/100\n",
            "2/2 [==============================] - 0s 74ms/step - loss: 0.1316 - val_loss: 0.1106\n",
            "Epoch 94/100\n",
            "2/2 [==============================] - 0s 43ms/step - loss: 0.1293 - val_loss: 0.1077\n",
            "Epoch 95/100\n",
            "2/2 [==============================] - 0s 35ms/step - loss: 0.1391 - val_loss: 0.1074\n",
            "Epoch 96/100\n",
            "2/2 [==============================] - 0s 28ms/step - loss: 0.1265 - val_loss: 0.1153\n",
            "Epoch 97/100\n",
            "2/2 [==============================] - 0s 32ms/step - loss: 0.1355 - val_loss: 0.1241\n",
            "Epoch 98/100\n",
            "2/2 [==============================] - 0s 30ms/step - loss: 0.1439 - val_loss: 0.1246\n",
            "Epoch 99/100\n",
            "2/2 [==============================] - 0s 43ms/step - loss: 0.1419 - val_loss: 0.1155\n",
            "Epoch 100/100\n",
            "2/2 [==============================] - 0s 74ms/step - loss: 0.1308 - val_loss: 0.1121\n"
          ]
        }
      ],
      "source": [
        "# обучаем модель\n",
        "\n",
        "history = VW_model.fit(\n",
        "    train_features['VW'],\n",
        "    train_labels,\n",
        "    epochs=100,\n",
        "    verbose=1,\n",
        "    validation_split=0.2)"
      ]
    },
    {
      "cell_type": "code",
      "execution_count": 18,
      "metadata": {
        "ExecuteTime": {
          "end_time": "2022-11-09T06:49:19.383353Z",
          "start_time": "2022-11-09T06:49:19.260345Z"
        },
        "id": "E-H_QxIR0nOK"
      },
      "outputs": [],
      "source": [
        "# напишем функцию для построения графика динамики loss и val_loss\n",
        "\n",
        "def plot_loss(history):\n",
        "    plt.plot(history.history['loss'], label='loss')\n",
        "    plt.plot(history.history['val_loss'], label='val_loss')\n",
        "    plt.ylim([0,10])\n",
        "    plt.xlabel('Epoch')\n",
        "    plt.ylabel('Error [Depth,Width]')\n",
        "    plt.legend()\n",
        "    plt.grid(True)"
      ]
    },
    {
      "cell_type": "code",
      "execution_count": 19,
      "metadata": {
        "ExecuteTime": {
          "end_time": "2022-11-09T06:49:21.446348Z",
          "start_time": "2022-11-09T06:49:19.385344Z"
        },
        "colab": {
          "base_uri": "https://localhost:8080/",
          "height": 283
        },
        "id": "6xi_kjbq016j",
        "outputId": "c13f31cc-e07f-4ec0-92bb-86aac010fa40"
      },
      "outputs": [
        {
          "output_type": "display_data",
          "data": {
            "text/plain": [
              "<Figure size 432x288 with 1 Axes>"
            ],
            "image/png": "[encoded data removed]"
          },
          "metadata": {
            "needs_background": "light"
          }
        }
      ],
      "source": [
        "# построим график\n",
        "\n",
        "plot_loss(history)"
      ]
    },
    {
      "cell_type": "markdown",
      "metadata": {
        "id": "e69BPQnC0__L"
      },
      "source": [
        "**Мы видим, что loss перестал падать после 12 эпохи**"
      ]
    },
    {
      "cell_type": "code",
      "execution_count": 20,
      "metadata": {
        "ExecuteTime": {
          "end_time": "2022-11-09T06:49:21.531345Z",
          "start_time": "2022-11-09T06:49:21.448344Z"
        },
        "id": "2OAY1egG07ij",
        "colab": {
          "base_uri": "https://localhost:8080/"
        },
        "outputId": "7cfa67b6-d55c-4292-afaf-03edd7846677"
      },
      "outputs": [
        {
          "output_type": "execute_result",
          "data": {
            "text/plain": [
              "{'VW_model': 0.11333803087472916}"
            ]
          },
          "metadata": {},
          "execution_count": 20
        }
      ],
      "source": [
        "# получим предсказания на тестовой части и посчитаем ошибку\n",
        "\n",
        "test_results = {}\n",
        "\n",
        "test_results['VW_model'] = VW_model.evaluate(\n",
        "    test_features['VW'],\n",
        "    test_labels, verbose = 0)\n",
        "\n",
        "test_results"
      ]
    },
    {
      "cell_type": "markdown",
      "metadata": {
        "id": "ELaPnyIb2-of"
      },
      "source": [
        "## Построим линейную модель с оригинальным нормалайзером, который использует все признаки"
      ]
    },
    {
      "cell_type": "markdown",
      "source": [
        "## linear_model"
      ],
      "metadata": {
        "id": "vW4SodQKEt8z"
      }
    },
    {
      "cell_type": "code",
      "execution_count": 21,
      "metadata": {
        "ExecuteTime": {
          "end_time": "2022-11-09T06:49:21.715375Z",
          "start_time": "2022-11-09T06:49:21.587343Z"
        },
        "id": "lXOp4CQw2N7L"
      },
      "outputs": [],
      "source": [
        "# создаем нашу нейронную сеть\n",
        "\n",
        "linear_model = tf.keras.Sequential([\n",
        "    normalizer, #первый слой с оригинальным нормалайзером\n",
        "    layers.Dense(units=2) #полносвязный слой\n",
        "])"
      ]
    },
    {
      "cell_type": "code",
      "execution_count": 22,
      "metadata": {
        "ExecuteTime": {
          "end_time": "2022-11-09T06:59:49.633344Z",
          "start_time": "2022-11-09T06:59:49.440344Z"
        },
        "colab": {
          "base_uri": "https://localhost:8080/"
        },
        "id": "kGO0fzM53Bgp",
        "outputId": "aee8a511-211f-41d9-d932-896ec74921b2"
      },
      "outputs": [
        {
          "output_type": "stream",
          "name": "stdout",
          "text": [
            "1/1 [==============================] - 0s 94ms/step\n"
          ]
        },
        {
          "output_type": "execute_result",
          "data": {
            "text/plain": [
              "array([[-0.013,  1.097],\n",
              "       [-1.915, -0.637],\n",
              "       [ 0.639, -1.803],\n",
              "       [-0.04 , -3.2  ],\n",
              "       [-1.915, -0.637],\n",
              "       [-1.563,  0.088],\n",
              "       [ 0.245,  1.807],\n",
              "       [ 0.423, -0.123],\n",
              "       [ 0.729, -2.813],\n",
              "       [ 0.116,  1.452]], dtype=float32)"
            ]
          },
          "metadata": {},
          "execution_count": 22
        }
      ],
      "source": [
        "# предсказываем значения\n",
        "\n",
        "linear_model.predict(train_features[:10])"
      ]
    },
    {
      "cell_type": "code",
      "execution_count": 23,
      "metadata": {
        "ExecuteTime": {
          "end_time": "2022-11-09T06:49:22.155356Z",
          "start_time": "2022-11-09T06:49:22.057346Z"
        },
        "id": "HF5SOmDk3QKQ"
      },
      "outputs": [],
      "source": [
        "# компелируем модель\n",
        "\n",
        "linear_model.compile(\n",
        "    optimizer = tf.optimizers.Adam(learning_rate = 0.1), \n",
        "    loss = 'mean_absolute_error')\n",
        "   "
      ]
    },
    {
      "cell_type": "code",
      "execution_count": 24,
      "metadata": {
        "ExecuteTime": {
          "end_time": "2022-11-09T06:49:26.867347Z",
          "start_time": "2022-11-09T06:49:22.162343Z"
        },
        "colab": {
          "base_uri": "https://localhost:8080/"
        },
        "id": "_Zi2EXbQ3Skw",
        "outputId": "bf4a75bb-b0a0-4c0e-87f5-29f62d2a5f93"
      },
      "outputs": [
        {
          "output_type": "stream",
          "name": "stdout",
          "text": [
            "Epoch 1/100\n",
            "2/2 [==============================] - 1s 345ms/step - loss: 1.6418 - val_loss: 1.2380\n",
            "Epoch 2/100\n",
            "2/2 [==============================] - 0s 29ms/step - loss: 1.4164 - val_loss: 1.0687\n",
            "Epoch 3/100\n",
            "2/2 [==============================] - 0s 27ms/step - loss: 1.2023 - val_loss: 0.8819\n",
            "Epoch 4/100\n",
            "2/2 [==============================] - 0s 89ms/step - loss: 1.0245 - val_loss: 0.7194\n",
            "Epoch 5/100\n",
            "2/2 [==============================] - 0s 30ms/step - loss: 0.8334 - val_loss: 0.5749\n",
            "Epoch 6/100\n",
            "2/2 [==============================] - 0s 32ms/step - loss: 0.6436 - val_loss: 0.4867\n",
            "Epoch 7/100\n",
            "2/2 [==============================] - 0s 52ms/step - loss: 0.5001 - val_loss: 0.3617\n",
            "Epoch 8/100\n",
            "2/2 [==============================] - 0s 55ms/step - loss: 0.3690 - val_loss: 0.2783\n",
            "Epoch 9/100\n",
            "2/2 [==============================] - 0s 38ms/step - loss: 0.3057 - val_loss: 0.2081\n",
            "Epoch 10/100\n",
            "2/2 [==============================] - 0s 86ms/step - loss: 0.2598 - val_loss: 0.1117\n",
            "Epoch 11/100\n",
            "2/2 [==============================] - 0s 70ms/step - loss: 0.2047 - val_loss: 0.1031\n",
            "Epoch 12/100\n",
            "2/2 [==============================] - 0s 44ms/step - loss: 0.1986 - val_loss: 0.1685\n",
            "Epoch 13/100\n",
            "2/2 [==============================] - 0s 33ms/step - loss: 0.2205 - val_loss: 0.1894\n",
            "Epoch 14/100\n",
            "2/2 [==============================] - 0s 51ms/step - loss: 0.2151 - val_loss: 0.1961\n",
            "Epoch 15/100\n",
            "2/2 [==============================] - 0s 32ms/step - loss: 0.2280 - val_loss: 0.1983\n",
            "Epoch 16/100\n",
            "2/2 [==============================] - 0s 33ms/step - loss: 0.2068 - val_loss: 0.1894\n",
            "Epoch 17/100\n",
            "2/2 [==============================] - 0s 33ms/step - loss: 0.1677 - val_loss: 0.1744\n",
            "Epoch 18/100\n",
            "2/2 [==============================] - 0s 40ms/step - loss: 0.1478 - val_loss: 0.1307\n",
            "Epoch 19/100\n",
            "2/2 [==============================] - 0s 46ms/step - loss: 0.1396 - val_loss: 0.0812\n",
            "Epoch 20/100\n",
            "2/2 [==============================] - 0s 52ms/step - loss: 0.1342 - val_loss: 0.0799\n",
            "Epoch 21/100\n",
            "2/2 [==============================] - 0s 65ms/step - loss: 0.1443 - val_loss: 0.0807\n",
            "Epoch 22/100\n",
            "2/2 [==============================] - 0s 70ms/step - loss: 0.1389 - val_loss: 0.0883\n",
            "Epoch 23/100\n",
            "2/2 [==============================] - 0s 48ms/step - loss: 0.1245 - val_loss: 0.0667\n",
            "Epoch 24/100\n",
            "2/2 [==============================] - 0s 43ms/step - loss: 0.1073 - val_loss: 0.0652\n",
            "Epoch 25/100\n",
            "2/2 [==============================] - 0s 39ms/step - loss: 0.1052 - val_loss: 0.0676\n",
            "Epoch 26/100\n",
            "2/2 [==============================] - 0s 36ms/step - loss: 0.1065 - val_loss: 0.1013\n",
            "Epoch 27/100\n",
            "2/2 [==============================] - 0s 35ms/step - loss: 0.1094 - val_loss: 0.0848\n",
            "Epoch 28/100\n",
            "2/2 [==============================] - 0s 70ms/step - loss: 0.0975 - val_loss: 0.0864\n",
            "Epoch 29/100\n",
            "2/2 [==============================] - 0s 41ms/step - loss: 0.1036 - val_loss: 0.0918\n",
            "Epoch 30/100\n",
            "2/2 [==============================] - 0s 30ms/step - loss: 0.0968 - val_loss: 0.0823\n",
            "Epoch 31/100\n",
            "2/2 [==============================] - 0s 36ms/step - loss: 0.0943 - val_loss: 0.0612\n",
            "Epoch 32/100\n",
            "2/2 [==============================] - 0s 77ms/step - loss: 0.0861 - val_loss: 0.0486\n",
            "Epoch 33/100\n",
            "2/2 [==============================] - 0s 55ms/step - loss: 0.0917 - val_loss: 0.0615\n",
            "Epoch 34/100\n",
            "2/2 [==============================] - 0s 38ms/step - loss: 0.0971 - val_loss: 0.0491\n",
            "Epoch 35/100\n",
            "2/2 [==============================] - 0s 137ms/step - loss: 0.0896 - val_loss: 0.0601\n",
            "Epoch 36/100\n",
            "2/2 [==============================] - 0s 38ms/step - loss: 0.0863 - val_loss: 0.0928\n",
            "Epoch 37/100\n",
            "2/2 [==============================] - 0s 30ms/step - loss: 0.1025 - val_loss: 0.0726\n",
            "Epoch 38/100\n",
            "2/2 [==============================] - 0s 35ms/step - loss: 0.0895 - val_loss: 0.0770\n",
            "Epoch 39/100\n",
            "2/2 [==============================] - 0s 34ms/step - loss: 0.1066 - val_loss: 0.0644\n",
            "Epoch 40/100\n",
            "2/2 [==============================] - 0s 65ms/step - loss: 0.0875 - val_loss: 0.0966\n",
            "Epoch 41/100\n",
            "2/2 [==============================] - 0s 63ms/step - loss: 0.0960 - val_loss: 0.0649\n",
            "Epoch 42/100\n",
            "2/2 [==============================] - 0s 52ms/step - loss: 0.0846 - val_loss: 0.0618\n",
            "Epoch 43/100\n",
            "2/2 [==============================] - 0s 62ms/step - loss: 0.0884 - val_loss: 0.0839\n",
            "Epoch 44/100\n",
            "2/2 [==============================] - 0s 33ms/step - loss: 0.0925 - val_loss: 0.0638\n",
            "Epoch 45/100\n",
            "2/2 [==============================] - 0s 53ms/step - loss: 0.0762 - val_loss: 0.0690\n",
            "Epoch 46/100\n",
            "2/2 [==============================] - 0s 34ms/step - loss: 0.0816 - val_loss: 0.0654\n",
            "Epoch 47/100\n",
            "2/2 [==============================] - 0s 62ms/step - loss: 0.0756 - val_loss: 0.0632\n",
            "Epoch 48/100\n",
            "2/2 [==============================] - 0s 59ms/step - loss: 0.0806 - val_loss: 0.0720\n",
            "Epoch 49/100\n",
            "2/2 [==============================] - 0s 49ms/step - loss: 0.0805 - val_loss: 0.0657\n",
            "Epoch 50/100\n",
            "2/2 [==============================] - 0s 89ms/step - loss: 0.0800 - val_loss: 0.0674\n",
            "Epoch 51/100\n",
            "2/2 [==============================] - 0s 48ms/step - loss: 0.0766 - val_loss: 0.0728\n",
            "Epoch 52/100\n",
            "2/2 [==============================] - 0s 104ms/step - loss: 0.0763 - val_loss: 0.0589\n",
            "Epoch 53/100\n",
            "2/2 [==============================] - 0s 56ms/step - loss: 0.0844 - val_loss: 0.0505\n",
            "Epoch 54/100\n",
            "2/2 [==============================] - 0s 47ms/step - loss: 0.0752 - val_loss: 0.0752\n",
            "Epoch 55/100\n",
            "2/2 [==============================] - 0s 50ms/step - loss: 0.0826 - val_loss: 0.0486\n",
            "Epoch 56/100\n",
            "2/2 [==============================] - 0s 35ms/step - loss: 0.0834 - val_loss: 0.0698\n",
            "Epoch 57/100\n",
            "2/2 [==============================] - 0s 77ms/step - loss: 0.0885 - val_loss: 0.0629\n",
            "Epoch 58/100\n",
            "2/2 [==============================] - 0s 123ms/step - loss: 0.0823 - val_loss: 0.0938\n",
            "Epoch 59/100\n",
            "2/2 [==============================] - 0s 44ms/step - loss: 0.0887 - val_loss: 0.0817\n",
            "Epoch 60/100\n",
            "2/2 [==============================] - 0s 68ms/step - loss: 0.0874 - val_loss: 0.0787\n",
            "Epoch 61/100\n",
            "2/2 [==============================] - 0s 32ms/step - loss: 0.0856 - val_loss: 0.0666\n",
            "Epoch 62/100\n",
            "2/2 [==============================] - 0s 91ms/step - loss: 0.0797 - val_loss: 0.0749\n",
            "Epoch 63/100\n",
            "2/2 [==============================] - 0s 28ms/step - loss: 0.0854 - val_loss: 0.0602\n",
            "Epoch 64/100\n",
            "2/2 [==============================] - 0s 38ms/step - loss: 0.0837 - val_loss: 0.0592\n",
            "Epoch 65/100\n",
            "2/2 [==============================] - 0s 58ms/step - loss: 0.0726 - val_loss: 0.0834\n",
            "Epoch 66/100\n",
            "2/2 [==============================] - 0s 45ms/step - loss: 0.0842 - val_loss: 0.0762\n",
            "Epoch 67/100\n",
            "2/2 [==============================] - 0s 122ms/step - loss: 0.0711 - val_loss: 0.0597\n",
            "Epoch 68/100\n",
            "2/2 [==============================] - 0s 51ms/step - loss: 0.0736 - val_loss: 0.0576\n",
            "Epoch 69/100\n",
            "2/2 [==============================] - 0s 77ms/step - loss: 0.0703 - val_loss: 0.0756\n",
            "Epoch 70/100\n",
            "2/2 [==============================] - 0s 37ms/step - loss: 0.0736 - val_loss: 0.0577\n",
            "Epoch 71/100\n",
            "2/2 [==============================] - 0s 59ms/step - loss: 0.0733 - val_loss: 0.0599\n",
            "Epoch 72/100\n",
            "2/2 [==============================] - 0s 81ms/step - loss: 0.0777 - val_loss: 0.0718\n",
            "Epoch 73/100\n",
            "2/2 [==============================] - 0s 47ms/step - loss: 0.0725 - val_loss: 0.0631\n",
            "Epoch 74/100\n",
            "2/2 [==============================] - 0s 49ms/step - loss: 0.0699 - val_loss: 0.0654\n",
            "Epoch 75/100\n",
            "2/2 [==============================] - 0s 86ms/step - loss: 0.0734 - val_loss: 0.0701\n",
            "Epoch 76/100\n",
            "2/2 [==============================] - 0s 139ms/step - loss: 0.0700 - val_loss: 0.0653\n",
            "Epoch 77/100\n",
            "2/2 [==============================] - 0s 95ms/step - loss: 0.0734 - val_loss: 0.0806\n",
            "Epoch 78/100\n",
            "2/2 [==============================] - 0s 41ms/step - loss: 0.0715 - val_loss: 0.0667\n",
            "Epoch 79/100\n",
            "2/2 [==============================] - 0s 57ms/step - loss: 0.0732 - val_loss: 0.0698\n",
            "Epoch 80/100\n",
            "2/2 [==============================] - 0s 40ms/step - loss: 0.0734 - val_loss: 0.0731\n",
            "Epoch 81/100\n",
            "2/2 [==============================] - 0s 61ms/step - loss: 0.0694 - val_loss: 0.0689\n",
            "Epoch 82/100\n",
            "2/2 [==============================] - 0s 33ms/step - loss: 0.0784 - val_loss: 0.0583\n",
            "Epoch 83/100\n",
            "2/2 [==============================] - 0s 41ms/step - loss: 0.0709 - val_loss: 0.0703\n",
            "Epoch 84/100\n",
            "2/2 [==============================] - 0s 39ms/step - loss: 0.0731 - val_loss: 0.0753\n",
            "Epoch 85/100\n",
            "2/2 [==============================] - 0s 51ms/step - loss: 0.0726 - val_loss: 0.0693\n",
            "Epoch 86/100\n",
            "2/2 [==============================] - 0s 36ms/step - loss: 0.0672 - val_loss: 0.0731\n",
            "Epoch 87/100\n",
            "2/2 [==============================] - 0s 32ms/step - loss: 0.0724 - val_loss: 0.0638\n",
            "Epoch 88/100\n",
            "2/2 [==============================] - 0s 63ms/step - loss: 0.0652 - val_loss: 0.0622\n",
            "Epoch 89/100\n",
            "2/2 [==============================] - 0s 38ms/step - loss: 0.0685 - val_loss: 0.0647\n",
            "Epoch 90/100\n",
            "2/2 [==============================] - 0s 33ms/step - loss: 0.0646 - val_loss: 0.0726\n",
            "Epoch 91/100\n",
            "2/2 [==============================] - 0s 29ms/step - loss: 0.0687 - val_loss: 0.0715\n",
            "Epoch 92/100\n",
            "2/2 [==============================] - 0s 81ms/step - loss: 0.0722 - val_loss: 0.0657\n",
            "Epoch 93/100\n",
            "2/2 [==============================] - 0s 44ms/step - loss: 0.0769 - val_loss: 0.0717\n",
            "Epoch 94/100\n",
            "2/2 [==============================] - 0s 81ms/step - loss: 0.0758 - val_loss: 0.0768\n",
            "Epoch 95/100\n",
            "2/2 [==============================] - 0s 88ms/step - loss: 0.0797 - val_loss: 0.0637\n",
            "Epoch 96/100\n",
            "2/2 [==============================] - 0s 105ms/step - loss: 0.0654 - val_loss: 0.0777\n",
            "Epoch 97/100\n",
            "2/2 [==============================] - 0s 132ms/step - loss: 0.0716 - val_loss: 0.0695\n",
            "Epoch 98/100\n",
            "2/2 [==============================] - 0s 111ms/step - loss: 0.0732 - val_loss: 0.0620\n",
            "Epoch 99/100\n",
            "2/2 [==============================] - 0s 110ms/step - loss: 0.0762 - val_loss: 0.0749\n",
            "Epoch 100/100\n",
            "2/2 [==============================] - 0s 69ms/step - loss: 0.0708 - val_loss: 0.0754\n"
          ]
        }
      ],
      "source": [
        "# обучаем модель\n",
        "\n",
        "history = linear_model.fit(\n",
        "    train_features,\n",
        "    train_labels,\n",
        "    epochs=100,\n",
        "    verbose=1,\n",
        "    validation_split=0.2)"
      ]
    },
    {
      "cell_type": "code",
      "execution_count": 25,
      "metadata": {
        "ExecuteTime": {
          "end_time": "2022-11-09T06:49:27.074345Z",
          "start_time": "2022-11-09T06:49:26.871350Z"
        },
        "colab": {
          "base_uri": "https://localhost:8080/",
          "height": 283
        },
        "id": "dabjXESd3cWs",
        "outputId": "e23bb49a-2e0a-45ba-8a7c-13914b8f9490"
      },
      "outputs": [
        {
          "output_type": "display_data",
          "data": {
            "text/plain": [
              "<Figure size 432x288 with 1 Axes>"
            ],
            "image/png": "[encoded data removed]"
          },
          "metadata": {
            "needs_background": "light"
          }
        }
      ],
      "source": [
        "plot_loss(history)"
      ]
    },
    {
      "cell_type": "markdown",
      "metadata": {
        "id": "c41hYTHzXDcL"
      },
      "source": [
        "**В данном случае loss перестал падать после 26 эпохи**"
      ]
    },
    {
      "cell_type": "code",
      "execution_count": 26,
      "metadata": {
        "ExecuteTime": {
          "end_time": "2022-11-09T06:49:27.193341Z",
          "start_time": "2022-11-09T06:49:27.077346Z"
        },
        "id": "ai-SetzO3fN7",
        "colab": {
          "base_uri": "https://localhost:8080/"
        },
        "outputId": "1338afaa-51d0-42f9-a538-332e3132470a"
      },
      "outputs": [
        {
          "output_type": "execute_result",
          "data": {
            "text/plain": [
              "{'VW_model': 0.11333803087472916, 'linear_model': 0.09460560232400894}"
            ]
          },
          "metadata": {},
          "execution_count": 26
        }
      ],
      "source": [
        "# получим предсказания на тестовой части и посчитаем ошибку\n",
        "\n",
        "test_results['linear_model'] = linear_model.evaluate(\n",
        "    test_features,\n",
        "    test_labels, verbose = 0)\n",
        "\n",
        "test_results"
      ]
    },
    {
      "cell_type": "markdown",
      "metadata": {
        "id": "yZIq829s3pS0"
      },
      "source": [
        "## Построение многослойного персептрона"
      ]
    },
    {
      "cell_type": "code",
      "execution_count": 27,
      "metadata": {
        "ExecuteTime": {
          "end_time": "2022-11-09T06:49:27.341340Z",
          "start_time": "2022-11-09T06:49:27.213351Z"
        },
        "id": "Y82-4Pyj3kpH"
      },
      "outputs": [],
      "source": [
        "#напишем функцию многослойного персептрона, которую мы будем использовать для сбора каждой модели\n",
        "\n",
        "def build_and_compile_model(norm):\n",
        "    model = keras.Sequential([\n",
        "        norm, #нормализация\n",
        "        layers.Dense(64, activation='relu'), #полносвязный слой\n",
        "        layers.Dense(64, activation='relu'), #полносвязный слой\n",
        "        layers.Dense(1) \n",
        "])\n",
        "    model.compile(loss='mean_absolute_error',\n",
        "                  optimizer = tf.optimizers.Adam(learning_rate = 0.001)) #компелируем модель\n",
        "    \n",
        "    return model"
      ]
    },
    {
      "cell_type": "markdown",
      "source": [
        "## dnn_VW_model"
      ],
      "metadata": {
        "id": "D6aURlyjFBAf"
      }
    },
    {
      "cell_type": "code",
      "execution_count": 28,
      "metadata": {
        "ExecuteTime": {
          "end_time": "2022-11-09T06:49:27.557346Z",
          "start_time": "2022-11-09T06:49:27.343341Z"
        },
        "colab": {
          "base_uri": "https://localhost:8080/"
        },
        "id": "08VdlWmR353l",
        "outputId": "5b8b7933-accd-4384-94d7-dc19669e0456"
      },
      "outputs": [
        {
          "output_type": "stream",
          "name": "stdout",
          "text": [
            "Model: \"sequential_2\"\n",
            "_________________________________________________________________\n",
            " Layer (type)                Output Shape              Param #   \n",
            "=================================================================\n",
            " normalization_1 (Normalizat  (None, 1)                3         \n",
            " ion)                                                            \n",
            "                                                                 \n",
            " dense_2 (Dense)             (None, 64)                128       \n",
            "                                                                 \n",
            " dense_3 (Dense)             (None, 64)                4160      \n",
            "                                                                 \n",
            " dense_4 (Dense)             (None, 1)                 65        \n",
            "                                                                 \n",
            "=================================================================\n",
            "Total params: 4,356\n",
            "Trainable params: 4,353\n",
            "Non-trainable params: 3\n",
            "_________________________________________________________________\n"
          ]
        }
      ],
      "source": [
        "#собираем модель и смотрим параметры\n",
        "\n",
        "dnn_VW_model = build_and_compile_model(VW_normalizer)\n",
        "\n",
        "dnn_VW_model.summary()"
      ]
    },
    {
      "cell_type": "code",
      "execution_count": 29,
      "metadata": {
        "ExecuteTime": {
          "end_time": "2022-11-09T06:49:32.185343Z",
          "start_time": "2022-11-09T06:49:27.559348Z"
        },
        "colab": {
          "base_uri": "https://localhost:8080/"
        },
        "id": "Xv9aYoNi4dCR",
        "outputId": "1886d990-4790-4e72-ba6a-146663828cdd"
      },
      "outputs": [
        {
          "output_type": "stream",
          "name": "stdout",
          "text": [
            "Epoch 1/100\n",
            "2/2 [==============================] - 1s 225ms/step - loss: 1.5640 - val_loss: 1.4894\n",
            "Epoch 2/100\n",
            "2/2 [==============================] - 0s 34ms/step - loss: 1.5038 - val_loss: 1.4441\n",
            "Epoch 3/100\n",
            "2/2 [==============================] - 0s 39ms/step - loss: 1.4444 - val_loss: 1.3986\n",
            "Epoch 4/100\n",
            "2/2 [==============================] - 0s 31ms/step - loss: 1.3851 - val_loss: 1.3530\n",
            "Epoch 5/100\n",
            "2/2 [==============================] - 0s 47ms/step - loss: 1.3257 - val_loss: 1.3071\n",
            "Epoch 6/100\n",
            "2/2 [==============================] - 0s 57ms/step - loss: 1.2652 - val_loss: 1.2593\n",
            "Epoch 7/100\n",
            "2/2 [==============================] - 0s 21ms/step - loss: 1.2038 - val_loss: 1.2097\n",
            "Epoch 8/100\n",
            "2/2 [==============================] - 0s 23ms/step - loss: 1.1357 - val_loss: 1.1574\n",
            "Epoch 9/100\n",
            "2/2 [==============================] - 0s 21ms/step - loss: 1.0697 - val_loss: 1.1026\n",
            "Epoch 10/100\n",
            "2/2 [==============================] - 0s 20ms/step - loss: 1.0048 - val_loss: 1.0462\n",
            "Epoch 11/100\n",
            "2/2 [==============================] - 0s 21ms/step - loss: 0.9395 - val_loss: 0.9873\n",
            "Epoch 12/100\n",
            "2/2 [==============================] - 0s 20ms/step - loss: 0.8765 - val_loss: 0.9255\n",
            "Epoch 13/100\n",
            "2/2 [==============================] - 0s 20ms/step - loss: 0.8178 - val_loss: 0.8608\n",
            "Epoch 14/100\n",
            "2/2 [==============================] - 0s 28ms/step - loss: 0.7658 - val_loss: 0.8082\n",
            "Epoch 15/100\n",
            "2/2 [==============================] - 0s 22ms/step - loss: 0.7323 - val_loss: 0.7596\n",
            "Epoch 16/100\n",
            "2/2 [==============================] - 0s 23ms/step - loss: 0.7057 - val_loss: 0.7157\n",
            "Epoch 17/100\n",
            "2/2 [==============================] - 0s 21ms/step - loss: 0.6837 - val_loss: 0.6817\n",
            "Epoch 18/100\n",
            "2/2 [==============================] - 0s 22ms/step - loss: 0.6613 - val_loss: 0.6495\n",
            "Epoch 19/100\n",
            "2/2 [==============================] - 0s 21ms/step - loss: 0.6415 - val_loss: 0.6189\n",
            "Epoch 20/100\n",
            "2/2 [==============================] - 0s 21ms/step - loss: 0.6192 - val_loss: 0.5996\n",
            "Epoch 21/100\n",
            "2/2 [==============================] - 0s 21ms/step - loss: 0.6169 - val_loss: 0.5779\n",
            "Epoch 22/100\n",
            "2/2 [==============================] - 0s 22ms/step - loss: 0.6092 - val_loss: 0.5550\n",
            "Epoch 23/100\n",
            "2/2 [==============================] - 0s 28ms/step - loss: 0.5951 - val_loss: 0.5308\n",
            "Epoch 24/100\n",
            "2/2 [==============================] - 0s 26ms/step - loss: 0.5796 - val_loss: 0.5065\n",
            "Epoch 25/100\n",
            "2/2 [==============================] - 0s 21ms/step - loss: 0.5595 - val_loss: 0.4855\n",
            "Epoch 26/100\n",
            "2/2 [==============================] - 0s 21ms/step - loss: 0.5470 - val_loss: 0.4665\n",
            "Epoch 27/100\n",
            "2/2 [==============================] - 0s 22ms/step - loss: 0.5359 - val_loss: 0.4467\n",
            "Epoch 28/100\n",
            "2/2 [==============================] - 0s 35ms/step - loss: 0.5247 - val_loss: 0.4272\n",
            "Epoch 29/100\n",
            "2/2 [==============================] - 0s 22ms/step - loss: 0.5154 - val_loss: 0.4081\n",
            "Epoch 30/100\n",
            "2/2 [==============================] - 0s 23ms/step - loss: 0.5052 - val_loss: 0.3905\n",
            "Epoch 31/100\n",
            "2/2 [==============================] - 0s 24ms/step - loss: 0.4959 - val_loss: 0.3792\n",
            "Epoch 32/100\n",
            "2/2 [==============================] - 0s 28ms/step - loss: 0.4880 - val_loss: 0.3727\n",
            "Epoch 33/100\n",
            "2/2 [==============================] - 0s 25ms/step - loss: 0.4820 - val_loss: 0.3703\n",
            "Epoch 34/100\n",
            "2/2 [==============================] - 0s 23ms/step - loss: 0.4744 - val_loss: 0.3691\n",
            "Epoch 35/100\n",
            "2/2 [==============================] - 0s 23ms/step - loss: 0.4681 - val_loss: 0.3685\n",
            "Epoch 36/100\n",
            "2/2 [==============================] - 0s 23ms/step - loss: 0.4612 - val_loss: 0.3685\n",
            "Epoch 37/100\n",
            "2/2 [==============================] - 0s 21ms/step - loss: 0.4550 - val_loss: 0.3690\n",
            "Epoch 38/100\n",
            "2/2 [==============================] - 0s 21ms/step - loss: 0.4488 - val_loss: 0.3694\n",
            "Epoch 39/100\n",
            "2/2 [==============================] - 0s 19ms/step - loss: 0.4433 - val_loss: 0.3699\n",
            "Epoch 40/100\n",
            "2/2 [==============================] - 0s 21ms/step - loss: 0.4362 - val_loss: 0.3704\n",
            "Epoch 41/100\n",
            "2/2 [==============================] - 0s 20ms/step - loss: 0.4294 - val_loss: 0.3710\n",
            "Epoch 42/100\n",
            "2/2 [==============================] - 0s 20ms/step - loss: 0.4258 - val_loss: 0.3716\n",
            "Epoch 43/100\n",
            "2/2 [==============================] - 0s 26ms/step - loss: 0.4190 - val_loss: 0.3711\n",
            "Epoch 44/100\n",
            "2/2 [==============================] - 0s 22ms/step - loss: 0.4142 - val_loss: 0.3706\n",
            "Epoch 45/100\n",
            "2/2 [==============================] - 0s 24ms/step - loss: 0.4092 - val_loss: 0.3699\n",
            "Epoch 46/100\n",
            "2/2 [==============================] - 0s 21ms/step - loss: 0.4049 - val_loss: 0.3695\n",
            "Epoch 47/100\n",
            "2/2 [==============================] - 0s 20ms/step - loss: 0.4026 - val_loss: 0.3692\n",
            "Epoch 48/100\n",
            "2/2 [==============================] - 0s 21ms/step - loss: 0.4002 - val_loss: 0.3674\n",
            "Epoch 49/100\n",
            "2/2 [==============================] - 0s 21ms/step - loss: 0.3987 - val_loss: 0.3648\n",
            "Epoch 50/100\n",
            "2/2 [==============================] - 0s 20ms/step - loss: 0.3962 - val_loss: 0.3630\n",
            "Epoch 51/100\n",
            "2/2 [==============================] - 0s 21ms/step - loss: 0.3945 - val_loss: 0.3617\n",
            "Epoch 52/100\n",
            "2/2 [==============================] - 0s 21ms/step - loss: 0.3934 - val_loss: 0.3625\n",
            "Epoch 53/100\n",
            "2/2 [==============================] - 0s 28ms/step - loss: 0.3931 - val_loss: 0.3617\n",
            "Epoch 54/100\n",
            "2/2 [==============================] - 0s 23ms/step - loss: 0.3917 - val_loss: 0.3617\n",
            "Epoch 55/100\n",
            "2/2 [==============================] - 0s 20ms/step - loss: 0.3912 - val_loss: 0.3617\n",
            "Epoch 56/100\n",
            "2/2 [==============================] - 0s 21ms/step - loss: 0.3908 - val_loss: 0.3617\n",
            "Epoch 57/100\n",
            "2/2 [==============================] - 0s 40ms/step - loss: 0.3907 - val_loss: 0.3617\n",
            "Epoch 58/100\n",
            "2/2 [==============================] - 0s 23ms/step - loss: 0.3903 - val_loss: 0.3617\n",
            "Epoch 59/100\n",
            "2/2 [==============================] - 0s 22ms/step - loss: 0.3901 - val_loss: 0.3617\n",
            "Epoch 60/100\n",
            "2/2 [==============================] - 0s 22ms/step - loss: 0.3898 - val_loss: 0.3617\n",
            "Epoch 61/100\n",
            "2/2 [==============================] - 0s 22ms/step - loss: 0.3895 - val_loss: 0.3617\n",
            "Epoch 62/100\n",
            "2/2 [==============================] - 0s 20ms/step - loss: 0.3895 - val_loss: 0.3617\n",
            "Epoch 63/100\n",
            "2/2 [==============================] - 0s 21ms/step - loss: 0.3893 - val_loss: 0.3617\n",
            "Epoch 64/100\n",
            "2/2 [==============================] - 0s 21ms/step - loss: 0.3890 - val_loss: 0.3617\n",
            "Epoch 65/100\n",
            "2/2 [==============================] - 0s 21ms/step - loss: 0.3895 - val_loss: 0.3617\n",
            "Epoch 66/100\n",
            "2/2 [==============================] - 0s 21ms/step - loss: 0.3897 - val_loss: 0.3617\n",
            "Epoch 67/100\n",
            "2/2 [==============================] - 0s 22ms/step - loss: 0.3897 - val_loss: 0.3617\n",
            "Epoch 68/100\n",
            "2/2 [==============================] - 0s 22ms/step - loss: 0.3893 - val_loss: 0.3617\n",
            "Epoch 69/100\n",
            "2/2 [==============================] - 0s 21ms/step - loss: 0.3890 - val_loss: 0.3617\n",
            "Epoch 70/100\n",
            "2/2 [==============================] - 0s 22ms/step - loss: 0.3890 - val_loss: 0.3617\n",
            "Epoch 71/100\n",
            "2/2 [==============================] - 0s 21ms/step - loss: 0.3890 - val_loss: 0.3617\n",
            "Epoch 72/100\n",
            "2/2 [==============================] - 0s 22ms/step - loss: 0.3891 - val_loss: 0.3617\n",
            "Epoch 73/100\n",
            "2/2 [==============================] - 0s 22ms/step - loss: 0.3890 - val_loss: 0.3617\n",
            "Epoch 74/100\n",
            "2/2 [==============================] - 0s 24ms/step - loss: 0.3890 - val_loss: 0.3617\n",
            "Epoch 75/100\n",
            "2/2 [==============================] - 0s 21ms/step - loss: 0.3890 - val_loss: 0.3617\n",
            "Epoch 76/100\n",
            "2/2 [==============================] - 0s 21ms/step - loss: 0.3890 - val_loss: 0.3617\n",
            "Epoch 77/100\n",
            "2/2 [==============================] - 0s 21ms/step - loss: 0.3890 - val_loss: 0.3617\n",
            "Epoch 78/100\n",
            "2/2 [==============================] - 0s 24ms/step - loss: 0.3890 - val_loss: 0.3617\n",
            "Epoch 79/100\n",
            "2/2 [==============================] - 0s 21ms/step - loss: 0.3890 - val_loss: 0.3617\n",
            "Epoch 80/100\n",
            "2/2 [==============================] - 0s 27ms/step - loss: 0.3890 - val_loss: 0.3617\n",
            "Epoch 81/100\n",
            "2/2 [==============================] - 0s 21ms/step - loss: 0.3890 - val_loss: 0.3617\n",
            "Epoch 82/100\n",
            "2/2 [==============================] - 0s 21ms/step - loss: 0.3890 - val_loss: 0.3617\n",
            "Epoch 83/100\n",
            "2/2 [==============================] - 0s 29ms/step - loss: 0.3890 - val_loss: 0.3617\n",
            "Epoch 84/100\n",
            "2/2 [==============================] - 0s 24ms/step - loss: 0.3890 - val_loss: 0.3617\n",
            "Epoch 85/100\n",
            "2/2 [==============================] - 0s 22ms/step - loss: 0.3890 - val_loss: 0.3617\n",
            "Epoch 86/100\n",
            "2/2 [==============================] - 0s 21ms/step - loss: 0.3890 - val_loss: 0.3617\n",
            "Epoch 87/100\n",
            "2/2 [==============================] - 0s 24ms/step - loss: 0.3890 - val_loss: 0.3617\n",
            "Epoch 88/100\n",
            "2/2 [==============================] - 0s 22ms/step - loss: 0.3890 - val_loss: 0.3617\n",
            "Epoch 89/100\n",
            "2/2 [==============================] - 0s 22ms/step - loss: 0.3890 - val_loss: 0.3617\n",
            "Epoch 90/100\n",
            "2/2 [==============================] - 0s 24ms/step - loss: 0.3890 - val_loss: 0.3617\n",
            "Epoch 91/100\n",
            "2/2 [==============================] - 0s 21ms/step - loss: 0.3890 - val_loss: 0.3617\n",
            "Epoch 92/100\n",
            "2/2 [==============================] - 0s 21ms/step - loss: 0.3890 - val_loss: 0.3617\n",
            "Epoch 93/100\n",
            "2/2 [==============================] - 0s 21ms/step - loss: 0.3890 - val_loss: 0.3617\n",
            "Epoch 94/100\n",
            "2/2 [==============================] - 0s 21ms/step - loss: 0.3890 - val_loss: 0.3617\n",
            "Epoch 95/100\n",
            "2/2 [==============================] - 0s 23ms/step - loss: 0.3890 - val_loss: 0.3617\n",
            "Epoch 96/100\n",
            "2/2 [==============================] - 0s 21ms/step - loss: 0.3890 - val_loss: 0.3617\n",
            "Epoch 97/100\n",
            "2/2 [==============================] - 0s 23ms/step - loss: 0.3890 - val_loss: 0.3617\n",
            "Epoch 98/100\n",
            "2/2 [==============================] - 0s 20ms/step - loss: 0.3890 - val_loss: 0.3617\n",
            "Epoch 99/100\n",
            "2/2 [==============================] - 0s 21ms/step - loss: 0.3890 - val_loss: 0.3617\n",
            "Epoch 100/100\n",
            "2/2 [==============================] - 0s 30ms/step - loss: 0.3890 - val_loss: 0.3617\n"
          ]
        }
      ],
      "source": [
        "# обучаем модель\n",
        "\n",
        "history = dnn_VW_model.fit(\n",
        "    train_features['VW'],\n",
        "    train_labels,\n",
        "    epochs=100,\n",
        "    verbose=1,\n",
        "    validation_split=0.2)"
      ]
    },
    {
      "cell_type": "code",
      "execution_count": 30,
      "metadata": {
        "ExecuteTime": {
          "end_time": "2022-11-09T06:49:32.361348Z",
          "start_time": "2022-11-09T06:49:32.187345Z"
        },
        "colab": {
          "base_uri": "https://localhost:8080/",
          "height": 283
        },
        "id": "lum8xJ774nNO",
        "outputId": "ce3e34c2-2393-45a6-d21d-d130fa6e93e2"
      },
      "outputs": [
        {
          "output_type": "display_data",
          "data": {
            "text/plain": [
              "<Figure size 432x288 with 1 Axes>"
            ],
            "image/png": "[encoded data removed]"
          },
          "metadata": {
            "needs_background": "light"
          }
        }
      ],
      "source": [
        "plot_loss(history)"
      ]
    },
    {
      "cell_type": "markdown",
      "metadata": {
        "id": "ajF0CkZ8WNq-"
      },
      "source": [
        "**Loss перестает падать после 27 эпохи**"
      ]
    },
    {
      "cell_type": "code",
      "execution_count": 31,
      "metadata": {
        "ExecuteTime": {
          "end_time": "2022-11-09T06:49:32.442353Z",
          "start_time": "2022-11-09T06:49:32.363349Z"
        },
        "id": "kD0MASm844dS"
      },
      "outputs": [],
      "source": [
        "#сохраняем ошибку по данной модели в test_results\n",
        "\n",
        "test_results['dnn_VW_model'] = dnn_VW_model.evaluate(test_features['VW'], test_labels, verbose=0)"
      ]
    },
    {
      "cell_type": "markdown",
      "source": [
        "## dnn_model"
      ],
      "metadata": {
        "id": "dZ2YJeUyEZ_9"
      }
    },
    {
      "cell_type": "code",
      "execution_count": 32,
      "metadata": {
        "ExecuteTime": {
          "end_time": "2022-11-09T06:49:32.544344Z",
          "start_time": "2022-11-09T06:49:32.444344Z"
        },
        "colab": {
          "base_uri": "https://localhost:8080/"
        },
        "id": "50KwPEl15Hee",
        "outputId": "9af6d518-1725-419d-bb7a-09238e1cc535"
      },
      "outputs": [
        {
          "output_type": "stream",
          "name": "stdout",
          "text": [
            "Model: \"sequential_3\"\n",
            "_________________________________________________________________\n",
            " Layer (type)                Output Shape              Param #   \n",
            "=================================================================\n",
            " normalization (Normalizatio  (None, 4)                9         \n",
            " n)                                                              \n",
            "                                                                 \n",
            " dense_5 (Dense)             (None, 64)                320       \n",
            "                                                                 \n",
            " dense_6 (Dense)             (None, 64)                4160      \n",
            "                                                                 \n",
            " dense_7 (Dense)             (None, 1)                 65        \n",
            "                                                                 \n",
            "=================================================================\n",
            "Total params: 4,554\n",
            "Trainable params: 4,545\n",
            "Non-trainable params: 9\n",
            "_________________________________________________________________\n"
          ]
        }
      ],
      "source": [
        "#собираем модель и смотрим параметры\n",
        "\n",
        "dnn_model = build_and_compile_model(normalizer)\n",
        "dnn_model.summary()"
      ]
    },
    {
      "cell_type": "code",
      "execution_count": 33,
      "metadata": {
        "ExecuteTime": {
          "end_time": "2022-11-09T06:49:37.053343Z",
          "start_time": "2022-11-09T06:49:32.548348Z"
        },
        "colab": {
          "base_uri": "https://localhost:8080/"
        },
        "id": "TuRzxi1l5Kre",
        "outputId": "44fe8dfd-a398-415d-ad66-6654d1c06580"
      },
      "outputs": [
        {
          "output_type": "stream",
          "name": "stdout",
          "text": [
            "Epoch 1/100\n",
            "2/2 [==============================] - 0s 129ms/step - loss: 1.8741 - val_loss: 1.7433\n",
            "Epoch 2/100\n",
            "2/2 [==============================] - 0s 22ms/step - loss: 1.7499 - val_loss: 1.6418\n",
            "Epoch 3/100\n",
            "2/2 [==============================] - 0s 22ms/step - loss: 1.6363 - val_loss: 1.5474\n",
            "Epoch 4/100\n",
            "2/2 [==============================] - 0s 20ms/step - loss: 1.5229 - val_loss: 1.4546\n",
            "Epoch 5/100\n",
            "2/2 [==============================] - 0s 21ms/step - loss: 1.4148 - val_loss: 1.3698\n",
            "Epoch 6/100\n",
            "2/2 [==============================] - 0s 22ms/step - loss: 1.3273 - val_loss: 1.2907\n",
            "Epoch 7/100\n",
            "2/2 [==============================] - 0s 22ms/step - loss: 1.2432 - val_loss: 1.2113\n",
            "Epoch 8/100\n",
            "2/2 [==============================] - 0s 20ms/step - loss: 1.1625 - val_loss: 1.1306\n",
            "Epoch 9/100\n",
            "2/2 [==============================] - 0s 20ms/step - loss: 1.0785 - val_loss: 1.0560\n",
            "Epoch 10/100\n",
            "2/2 [==============================] - 0s 21ms/step - loss: 0.9981 - val_loss: 0.9784\n",
            "Epoch 11/100\n",
            "2/2 [==============================] - 0s 25ms/step - loss: 0.9136 - val_loss: 0.8986\n",
            "Epoch 12/100\n",
            "2/2 [==============================] - 0s 40ms/step - loss: 0.8287 - val_loss: 0.8166\n",
            "Epoch 13/100\n",
            "2/2 [==============================] - 0s 25ms/step - loss: 0.7423 - val_loss: 0.7313\n",
            "Epoch 14/100\n",
            "2/2 [==============================] - 0s 20ms/step - loss: 0.6654 - val_loss: 0.6467\n",
            "Epoch 15/100\n",
            "2/2 [==============================] - 0s 26ms/step - loss: 0.6023 - val_loss: 0.5775\n",
            "Epoch 16/100\n",
            "2/2 [==============================] - 0s 25ms/step - loss: 0.5501 - val_loss: 0.5105\n",
            "Epoch 17/100\n",
            "2/2 [==============================] - 0s 21ms/step - loss: 0.5203 - val_loss: 0.4787\n",
            "Epoch 18/100\n",
            "2/2 [==============================] - 0s 28ms/step - loss: 0.4944 - val_loss: 0.4605\n",
            "Epoch 19/100\n",
            "2/2 [==============================] - 0s 21ms/step - loss: 0.4875 - val_loss: 0.4517\n",
            "Epoch 20/100\n",
            "2/2 [==============================] - 0s 28ms/step - loss: 0.4840 - val_loss: 0.4472\n",
            "Epoch 21/100\n",
            "2/2 [==============================] - 0s 21ms/step - loss: 0.4807 - val_loss: 0.4439\n",
            "Epoch 22/100\n",
            "2/2 [==============================] - 0s 22ms/step - loss: 0.4783 - val_loss: 0.4389\n",
            "Epoch 23/100\n",
            "2/2 [==============================] - 0s 20ms/step - loss: 0.4738 - val_loss: 0.4331\n",
            "Epoch 24/100\n",
            "2/2 [==============================] - 0s 21ms/step - loss: 0.4662 - val_loss: 0.4266\n",
            "Epoch 25/100\n",
            "2/2 [==============================] - 0s 20ms/step - loss: 0.4562 - val_loss: 0.4192\n",
            "Epoch 26/100\n",
            "2/2 [==============================] - 0s 21ms/step - loss: 0.4487 - val_loss: 0.4114\n",
            "Epoch 27/100\n",
            "2/2 [==============================] - 0s 21ms/step - loss: 0.4380 - val_loss: 0.4047\n",
            "Epoch 28/100\n",
            "2/2 [==============================] - 0s 23ms/step - loss: 0.4341 - val_loss: 0.4035\n",
            "Epoch 29/100\n",
            "2/2 [==============================] - 0s 21ms/step - loss: 0.4293 - val_loss: 0.4043\n",
            "Epoch 30/100\n",
            "2/2 [==============================] - 0s 20ms/step - loss: 0.4255 - val_loss: 0.4052\n",
            "Epoch 31/100\n",
            "2/2 [==============================] - 0s 24ms/step - loss: 0.4208 - val_loss: 0.4091\n",
            "Epoch 32/100\n",
            "2/2 [==============================] - 0s 20ms/step - loss: 0.4189 - val_loss: 0.4152\n",
            "Epoch 33/100\n",
            "2/2 [==============================] - 0s 20ms/step - loss: 0.4177 - val_loss: 0.4194\n",
            "Epoch 34/100\n",
            "2/2 [==============================] - 0s 38ms/step - loss: 0.4175 - val_loss: 0.4194\n",
            "Epoch 35/100\n",
            "2/2 [==============================] - 0s 22ms/step - loss: 0.4163 - val_loss: 0.4159\n",
            "Epoch 36/100\n",
            "2/2 [==============================] - 0s 22ms/step - loss: 0.4139 - val_loss: 0.4103\n",
            "Epoch 37/100\n",
            "2/2 [==============================] - 0s 25ms/step - loss: 0.4112 - val_loss: 0.4060\n",
            "Epoch 38/100\n",
            "2/2 [==============================] - 0s 25ms/step - loss: 0.4089 - val_loss: 0.4011\n",
            "Epoch 39/100\n",
            "2/2 [==============================] - 0s 25ms/step - loss: 0.4073 - val_loss: 0.3978\n",
            "Epoch 40/100\n",
            "2/2 [==============================] - 0s 24ms/step - loss: 0.4065 - val_loss: 0.3945\n",
            "Epoch 41/100\n",
            "2/2 [==============================] - 0s 23ms/step - loss: 0.4061 - val_loss: 0.3923\n",
            "Epoch 42/100\n",
            "2/2 [==============================] - 0s 23ms/step - loss: 0.4060 - val_loss: 0.3905\n",
            "Epoch 43/100\n",
            "2/2 [==============================] - 0s 25ms/step - loss: 0.4049 - val_loss: 0.3890\n",
            "Epoch 44/100\n",
            "2/2 [==============================] - 0s 24ms/step - loss: 0.4038 - val_loss: 0.3886\n",
            "Epoch 45/100\n",
            "2/2 [==============================] - 0s 24ms/step - loss: 0.4032 - val_loss: 0.3876\n",
            "Epoch 46/100\n",
            "2/2 [==============================] - 0s 23ms/step - loss: 0.4027 - val_loss: 0.3862\n",
            "Epoch 47/100\n",
            "2/2 [==============================] - 0s 26ms/step - loss: 0.4020 - val_loss: 0.3849\n",
            "Epoch 48/100\n",
            "2/2 [==============================] - 0s 23ms/step - loss: 0.4017 - val_loss: 0.3836\n",
            "Epoch 49/100\n",
            "2/2 [==============================] - 0s 21ms/step - loss: 0.4010 - val_loss: 0.3822\n",
            "Epoch 50/100\n",
            "2/2 [==============================] - 0s 21ms/step - loss: 0.4006 - val_loss: 0.3806\n",
            "Epoch 51/100\n",
            "2/2 [==============================] - 0s 40ms/step - loss: 0.4002 - val_loss: 0.3790\n",
            "Epoch 52/100\n",
            "2/2 [==============================] - 0s 21ms/step - loss: 0.3994 - val_loss: 0.3778\n",
            "Epoch 53/100\n",
            "2/2 [==============================] - 0s 21ms/step - loss: 0.3991 - val_loss: 0.3766\n",
            "Epoch 54/100\n",
            "2/2 [==============================] - 0s 21ms/step - loss: 0.3986 - val_loss: 0.3754\n",
            "Epoch 55/100\n",
            "2/2 [==============================] - 0s 20ms/step - loss: 0.3981 - val_loss: 0.3742\n",
            "Epoch 56/100\n",
            "2/2 [==============================] - 0s 20ms/step - loss: 0.3974 - val_loss: 0.3731\n",
            "Epoch 57/100\n",
            "2/2 [==============================] - 0s 21ms/step - loss: 0.3971 - val_loss: 0.3719\n",
            "Epoch 58/100\n",
            "2/2 [==============================] - 0s 27ms/step - loss: 0.3965 - val_loss: 0.3707\n",
            "Epoch 59/100\n",
            "2/2 [==============================] - 0s 21ms/step - loss: 0.3960 - val_loss: 0.3695\n",
            "Epoch 60/100\n",
            "2/2 [==============================] - 0s 21ms/step - loss: 0.3957 - val_loss: 0.3684\n",
            "Epoch 61/100\n",
            "2/2 [==============================] - 0s 21ms/step - loss: 0.3949 - val_loss: 0.3675\n",
            "Epoch 62/100\n",
            "2/2 [==============================] - 0s 20ms/step - loss: 0.3945 - val_loss: 0.3662\n",
            "Epoch 63/100\n",
            "2/2 [==============================] - 0s 21ms/step - loss: 0.3944 - val_loss: 0.3649\n",
            "Epoch 64/100\n",
            "2/2 [==============================] - 0s 20ms/step - loss: 0.3939 - val_loss: 0.3642\n",
            "Epoch 65/100\n",
            "2/2 [==============================] - 0s 21ms/step - loss: 0.3933 - val_loss: 0.3637\n",
            "Epoch 66/100\n",
            "2/2 [==============================] - 0s 20ms/step - loss: 0.3932 - val_loss: 0.3631\n",
            "Epoch 67/100\n",
            "2/2 [==============================] - 0s 20ms/step - loss: 0.3930 - val_loss: 0.3626\n",
            "Epoch 68/100\n",
            "2/2 [==============================] - 0s 20ms/step - loss: 0.3928 - val_loss: 0.3622\n",
            "Epoch 69/100\n",
            "2/2 [==============================] - 0s 21ms/step - loss: 0.3927 - val_loss: 0.3617\n",
            "Epoch 70/100\n",
            "2/2 [==============================] - 0s 20ms/step - loss: 0.3925 - val_loss: 0.3617\n",
            "Epoch 71/100\n",
            "2/2 [==============================] - 0s 21ms/step - loss: 0.3923 - val_loss: 0.3617\n",
            "Epoch 72/100\n",
            "2/2 [==============================] - 0s 21ms/step - loss: 0.3922 - val_loss: 0.3617\n",
            "Epoch 73/100\n",
            "2/2 [==============================] - 0s 21ms/step - loss: 0.3921 - val_loss: 0.3617\n",
            "Epoch 74/100\n",
            "2/2 [==============================] - 0s 21ms/step - loss: 0.3918 - val_loss: 0.3617\n",
            "Epoch 75/100\n",
            "2/2 [==============================] - 0s 21ms/step - loss: 0.3918 - val_loss: 0.3617\n",
            "Epoch 76/100\n",
            "2/2 [==============================] - 0s 21ms/step - loss: 0.3916 - val_loss: 0.3617\n",
            "Epoch 77/100\n",
            "2/2 [==============================] - 0s 20ms/step - loss: 0.3915 - val_loss: 0.3617\n",
            "Epoch 78/100\n",
            "2/2 [==============================] - 0s 22ms/step - loss: 0.3912 - val_loss: 0.3617\n",
            "Epoch 79/100\n",
            "2/2 [==============================] - 0s 23ms/step - loss: 0.3911 - val_loss: 0.3617\n",
            "Epoch 80/100\n",
            "2/2 [==============================] - 0s 22ms/step - loss: 0.3909 - val_loss: 0.3617\n",
            "Epoch 81/100\n",
            "2/2 [==============================] - 0s 20ms/step - loss: 0.3909 - val_loss: 0.3617\n",
            "Epoch 82/100\n",
            "2/2 [==============================] - 0s 20ms/step - loss: 0.3905 - val_loss: 0.3617\n",
            "Epoch 83/100\n",
            "2/2 [==============================] - 0s 27ms/step - loss: 0.3904 - val_loss: 0.3617\n",
            "Epoch 84/100\n",
            "2/2 [==============================] - 0s 22ms/step - loss: 0.3903 - val_loss: 0.3617\n",
            "Epoch 85/100\n",
            "2/2 [==============================] - 0s 22ms/step - loss: 0.3901 - val_loss: 0.3617\n",
            "Epoch 86/100\n",
            "2/2 [==============================] - 0s 21ms/step - loss: 0.3900 - val_loss: 0.3617\n",
            "Epoch 87/100\n",
            "2/2 [==============================] - 0s 22ms/step - loss: 0.3898 - val_loss: 0.3617\n",
            "Epoch 88/100\n",
            "2/2 [==============================] - 0s 22ms/step - loss: 0.3898 - val_loss: 0.3617\n",
            "Epoch 89/100\n",
            "2/2 [==============================] - 0s 23ms/step - loss: 0.3899 - val_loss: 0.3617\n",
            "Epoch 90/100\n",
            "2/2 [==============================] - 0s 22ms/step - loss: 0.3898 - val_loss: 0.3617\n",
            "Epoch 91/100\n",
            "2/2 [==============================] - 0s 21ms/step - loss: 0.3898 - val_loss: 0.3617\n",
            "Epoch 92/100\n",
            "2/2 [==============================] - 0s 23ms/step - loss: 0.3897 - val_loss: 0.3617\n",
            "Epoch 93/100\n",
            "2/2 [==============================] - 0s 21ms/step - loss: 0.3895 - val_loss: 0.3617\n",
            "Epoch 94/100\n",
            "2/2 [==============================] - 0s 25ms/step - loss: 0.3895 - val_loss: 0.3617\n",
            "Epoch 95/100\n",
            "2/2 [==============================] - 0s 25ms/step - loss: 0.3896 - val_loss: 0.3617\n",
            "Epoch 96/100\n",
            "2/2 [==============================] - 0s 29ms/step - loss: 0.3894 - val_loss: 0.3617\n",
            "Epoch 97/100\n",
            "2/2 [==============================] - 0s 23ms/step - loss: 0.3894 - val_loss: 0.3617\n",
            "Epoch 98/100\n",
            "2/2 [==============================] - 0s 24ms/step - loss: 0.3892 - val_loss: 0.3617\n",
            "Epoch 99/100\n",
            "2/2 [==============================] - 0s 22ms/step - loss: 0.3892 - val_loss: 0.3617\n",
            "Epoch 100/100\n",
            "2/2 [==============================] - 0s 22ms/step - loss: 0.3892 - val_loss: 0.3617\n"
          ]
        }
      ],
      "source": [
        "# обучаем модель\n",
        "\n",
        "history = dnn_model.fit(\n",
        "    train_features,\n",
        "    train_labels,\n",
        "    epochs=100,\n",
        "    verbose=1,\n",
        "    validation_split=0.2)"
      ]
    },
    {
      "cell_type": "code",
      "execution_count": 34,
      "metadata": {
        "ExecuteTime": {
          "end_time": "2022-11-09T06:49:37.236345Z",
          "start_time": "2022-11-09T06:49:37.055343Z"
        },
        "colab": {
          "base_uri": "https://localhost:8080/",
          "height": 283
        },
        "id": "P5vmcCFQ5XBS",
        "outputId": "d5416e98-9e0c-40b4-a8b1-f7019205fd6a"
      },
      "outputs": [
        {
          "output_type": "display_data",
          "data": {
            "text/plain": [
              "<Figure size 432x288 with 1 Axes>"
            ],
            "image/png": "[encoded data removed]"
          },
          "metadata": {
            "needs_background": "light"
          }
        }
      ],
      "source": [
        "plot_loss(history)"
      ]
    },
    {
      "cell_type": "markdown",
      "metadata": {
        "id": "cQgLeYtRWnNR"
      },
      "source": [
        "**loss перестает падать после 27 эпохи**"
      ]
    },
    {
      "cell_type": "code",
      "execution_count": 35,
      "metadata": {
        "ExecuteTime": {
          "end_time": "2022-11-09T06:49:37.330343Z",
          "start_time": "2022-11-09T06:49:37.238345Z"
        },
        "id": "0PDR7boq5eVr"
      },
      "outputs": [],
      "source": [
        "#сохраняем ошибку в test_results\n",
        "\n",
        "test_results['dnn_model'] = dnn_model.evaluate(test_features, test_labels, verbose=0)"
      ]
    },
    {
      "cell_type": "markdown",
      "source": [
        "## Сравним результаты моделей"
      ],
      "metadata": {
        "id": "jyccdwXXFKvR"
      }
    },
    {
      "cell_type": "code",
      "execution_count": 36,
      "metadata": {
        "ExecuteTime": {
          "end_time": "2022-11-09T06:49:37.486346Z",
          "start_time": "2022-11-09T06:49:37.359347Z"
        },
        "colab": {
          "base_uri": "https://localhost:8080/",
          "height": 175
        },
        "id": "mdNHIa1L5i-h",
        "outputId": "9e21c98d-67b6-4728-88f3-890278db308b"
      },
      "outputs": [
        {
          "output_type": "execute_result",
          "data": {
            "text/plain": [
              "              Mean absolute error [MPG]\n",
              "linear_model                   0.094606\n",
              "VW_model                       0.113338\n",
              "dnn_VW_model                   0.404286\n",
              "dnn_model                      0.404286"
            ],
            "text/html": [
              "\n",
              "  <div id=\"df-95f38a87-0411-4ea3-b3ee-af4147b55f56\">\n",
              "    <div class=\"colab-df-container\">\n",
              "      <div>\n",
              "<style scoped>\n",
              "    .dataframe tbody tr th:only-of-type {\n",
              "        vertical-align: middle;\n",
              "    }\n",
              "\n",
              "    .dataframe tbody tr th {\n",
              "        vertical-align: top;\n",
              "    }\n",
              "\n",
              "    .dataframe thead th {\n",
              "        text-align: right;\n",
              "    }\n",
              "</style>\n",
              "<table border=\"1\" class=\"dataframe\">\n",
              "  <thead>\n",
              "    <tr style=\"text-align: right;\">\n",
              "      <th></th>\n",
              "      <th>Mean absolute error [MPG]</th>\n",
              "    </tr>\n",
              "  </thead>\n",
              "  <tbody>\n",
              "    <tr>\n",
              "      <th>linear_model</th>\n",
              "      <td>0.094606</td>\n",
              "    </tr>\n",
              "    <tr>\n",
              "      <th>VW_model</th>\n",
              "      <td>0.113338</td>\n",
              "    </tr>\n",
              "    <tr>\n",
              "      <th>dnn_VW_model</th>\n",
              "      <td>0.404286</td>\n",
              "    </tr>\n",
              "    <tr>\n",
              "      <th>dnn_model</th>\n",
              "      <td>0.404286</td>\n",
              "    </tr>\n",
              "  </tbody>\n",
              "</table>\n",
              "</div>\n",
              "      <button class=\"colab-df-convert\" onclick=\"convertToInteractive('df-95f38a87-0411-4ea3-b3ee-af4147b55f56')\"\n",
              "              title=\"Convert this dataframe to an interactive table.\"\n",
              "              style=\"display:none;\">\n",
              "        \n",
              "  <svg xmlns=\"http://www.w3.org/2000/svg\" height=\"24px\"viewBox=\"0 0 24 24\"\n",
              "       width=\"24px\">\n",
              "    <path d=\"M0 0h24v24H0V0z\" fill=\"none\"/>\n",
              "    <path d=\"M18.56 5.44l.94 2.06.94-2.06 2.06-.94-2.06-.94-.94-2.06-.94 2.06-2.06.94zm-11 1L8.5 8.5l.94-2.06 2.06-.94-2.06-.94L8.5 2.5l-.94 2.06-2.06.94zm10 10l.94 2.06.94-2.06 2.06-.94-2.06-.94-.94-2.06-.94 2.06-2.06.94z\"/><path d=\"M17.41 7.96l-1.37-1.37c-.4-.4-.92-.59-1.43-.59-.52 0-1.04.2-1.43.59L10.3 9.45l-7.72 7.72c-.78.78-.78 2.05 0 2.83L4 21.41c.39.39.9.59 1.41.59.51 0 1.02-.2 1.41-.59l7.78-7.78 2.81-2.81c.8-.78.8-2.07 0-2.86zM5.41 20L4 18.59l7.72-7.72 1.47 1.35L5.41 20z\"/>\n",
              "  </svg>\n",
              "      </button>\n",
              "      \n",
              "  <style>\n",
              "    .colab-df-container {\n",
              "      display:flex;\n",
              "      flex-wrap:wrap;\n",
              "      gap: 12px;\n",
              "    }\n",
              "\n",
              "    .colab-df-convert {\n",
              "      background-color: #E8F0FE;\n",
              "      border: none;\n",
              "      border-radius: 50%;\n",
              "      cursor: pointer;\n",
              "      display: none;\n",
              "      fill: #1967D2;\n",
              "      height: 32px;\n",
              "      padding: 0 0 0 0;\n",
              "      width: 32px;\n",
              "    }\n",
              "\n",
              "    .colab-df-convert:hover {\n",
              "      background-color: #E2EBFA;\n",
              "      box-shadow: 0px 1px 2px rgba(60, 64, 67, 0.3), 0px 1px 3px 1px rgba(60, 64, 67, 0.15);\n",
              "      fill: #174EA6;\n",
              "    }\n",
              "\n",
              "    [theme=dark] .colab-df-convert {\n",
              "      background-color: #3B4455;\n",
              "      fill: #D2E3FC;\n",
              "    }\n",
              "\n",
              "    [theme=dark] .colab-df-convert:hover {\n",
              "      background-color: #434B5C;\n",
              "      box-shadow: 0px 1px 3px 1px rgba(0, 0, 0, 0.15);\n",
              "      filter: drop-shadow(0px 1px 2px rgba(0, 0, 0, 0.3));\n",
              "      fill: #FFFFFF;\n",
              "    }\n",
              "  </style>\n",
              "\n",
              "      <script>\n",
              "        const buttonEl =\n",
              "          document.querySelector('#df-95f38a87-0411-4ea3-b3ee-af4147b55f56 button.colab-df-convert');\n",
              "        buttonEl.style.display =\n",
              "          google.colab.kernel.accessAllowed ? 'block' : 'none';\n",
              "\n",
              "        async function convertToInteractive(key) {\n",
              "          const element = document.querySelector('#df-95f38a87-0411-4ea3-b3ee-af4147b55f56');\n",
              "          const dataTable =\n",
              "            await google.colab.kernel.invokeFunction('convertToInteractive',\n",
              "                                                     [key], {});\n",
              "          if (!dataTable) return;\n",
              "\n",
              "          const docLinkHtml = 'Like what you see? Visit the ' +\n",
              "            '<a target=\"_blank\" href=https://colab.research.google.com/notebooks/data_table.ipynb>data table notebook</a>'\n",
              "            + ' to learn more about interactive tables.';\n",
              "          element.innerHTML = '';\n",
              "          dataTable['output_type'] = 'display_data';\n",
              "          await google.colab.output.renderOutput(dataTable, element);\n",
              "          const docLink = document.createElement('div');\n",
              "          docLink.innerHTML = docLinkHtml;\n",
              "          element.appendChild(docLink);\n",
              "        }\n",
              "      </script>\n",
              "    </div>\n",
              "  </div>\n",
              "  "
            ]
          },
          "metadata": {},
          "execution_count": 36
        }
      ],
      "source": [
        "#соберем таблицу с данными ошибки по каждой модели\n",
        "\n",
        "pd.DataFrame(test_results, index=['Mean absolute error [MPG]']).T.sort_values(by='Mean absolute error [MPG]')"
      ]
    },
    {
      "cell_type": "markdown",
      "metadata": {
        "id": "hpDhFpsl5rK3"
      },
      "source": [
        "**Мы видим, что лучшая модель linear_model, она показывает наименьшую ошибку**"
      ]
    },
    {
      "cell_type": "markdown",
      "metadata": {
        "id": "R5jVpry6R5Gb"
      },
      "source": [
        "## Сохраняем модель"
      ]
    },
    {
      "cell_type": "code",
      "execution_count": 37,
      "metadata": {
        "ExecuteTime": {
          "end_time": "2022-11-09T06:57:31.725353Z",
          "start_time": "2022-11-09T06:57:30.810348Z"
        },
        "id": "4ju4bFb-R5hf",
        "scrolled": true
      },
      "outputs": [],
      "source": [
        "# Используем метод save для сохранения модели\n",
        "linear_model.save('linear_model')"
      ]
    },
    {
      "cell_type": "code",
      "execution_count": 38,
      "metadata": {
        "ExecuteTime": {
          "end_time": "2022-11-09T06:58:11.362365Z",
          "start_time": "2022-11-09T06:58:10.777344Z"
        },
        "id": "n7dr17XbQy9g"
      },
      "outputs": [],
      "source": [
        "# Используем keras.models.load_model  для загрузки модели\n",
        "model_test = keras.models.load_model('linear_model')"
      ]
    },
    {
      "cell_type": "code",
      "execution_count": 39,
      "metadata": {
        "ExecuteTime": {
          "end_time": "2022-11-09T06:48:51.419343Z",
          "start_time": "2022-11-09T06:48:51.419343Z"
        },
        "colab": {
          "base_uri": "https://localhost:8080/"
        },
        "id": "4PjGKuA6SNtq",
        "outputId": "427d75a0-4d0e-4fe7-cdfd-663c100fac06"
      },
      "outputs": [
        {
          "output_type": "stream",
          "name": "stdout",
          "text": [
            "1/1 [==============================] - 0s 39ms/step\n"
          ]
        },
        {
          "output_type": "execute_result",
          "data": {
            "text/plain": [
              "array([[1.704, 2.494],\n",
              "       [1.286, 2.031],\n",
              "       [1.286, 2.031],\n",
              "       [1.084, 1.799],\n",
              "       [1.15 , 1.828],\n",
              "       [1.704, 2.494],\n",
              "       [1.704, 2.494],\n",
              "       [1.06 , 2.33 ],\n",
              "       [1.306, 1.859],\n",
              "       [1.239, 1.743],\n",
              "       [1.163, 1.801],\n",
              "       [1.007, 1.727],\n",
              "       [1.097, 1.772],\n",
              "       [1.163, 1.801]], dtype=float32)"
            ]
          },
          "metadata": {},
          "execution_count": 39
        }
      ],
      "source": [
        "#прогнозируем значения\n",
        "model_test.predict(test_features)"
      ]
    }
  ],
  "metadata": {
    "accelerator": "GPU",
    "colab": {
      "collapsed_sections": [],
      "provenance": []
    },
    "gpuClass": "standard",
    "kernelspec": {
      "display_name": "Python 3 (ipykernel)",
      "language": "python",
      "name": "python3"
    },
    "language_info": {
      "codemirror_mode": {
        "name": "ipython",
        "version": 3
      },
      "file_extension": ".py",
      "mimetype": "text/x-python",
      "name": "python",
      "nbconvert_exporter": "python",
      "pygments_lexer": "ipython3",
      "version": "3.9.12"
    }
  },
  "nbformat": 4,
  "nbformat_minor": 0
}